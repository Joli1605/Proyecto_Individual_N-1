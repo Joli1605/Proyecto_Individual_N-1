{
 "cells": [
  {
   "cell_type": "code",
   "execution_count": 1,
   "metadata": {},
   "outputs": [],
   "source": [
    "import pandas as pd  #importamos pandas"
   ]
  },
  {
   "attachments": {},
   "cell_type": "markdown",
   "metadata": {},
   "source": [
    "Cargamos la data y verificamos las columnas y filas.\n",
    "\n"
   ]
  },
  {
   "cell_type": "code",
   "execution_count": 2,
   "metadata": {},
   "outputs": [
    {
     "name": "stderr",
     "output_type": "stream",
     "text": [
      "C:\\Users\\jorge\\AppData\\Local\\Temp\\ipykernel_4944\\3023539948.py:1: DtypeWarning: Columns (10) have mixed types. Specify dtype option on import or set low_memory=False.\n",
      "  Data = pd.read_csv('Dataset-20230613T223047Z-001\\Dataset\\movies_dataset.csv') #llamamos al dataframe\n"
     ]
    },
    {
     "data": {
      "text/plain": [
       "(45466, 24)"
      ]
     },
     "execution_count": 2,
     "metadata": {},
     "output_type": "execute_result"
    }
   ],
   "source": [
    "Data = pd.read_csv('Dataset-20230613T223047Z-001\\Dataset\\movies_dataset.csv') #llamamos al dataframe\n",
    "Data.shape  # cantidad de columnas y filas"
   ]
  },
  {
   "cell_type": "code",
   "execution_count": 3,
   "metadata": {},
   "outputs": [
    {
     "name": "stdout",
     "output_type": "stream",
     "text": [
      "<class 'pandas.core.frame.DataFrame'>\n",
      "RangeIndex: 45466 entries, 0 to 45465\n",
      "Data columns (total 24 columns):\n",
      " #   Column                 Non-Null Count  Dtype  \n",
      "---  ------                 --------------  -----  \n",
      " 0   adult                  45466 non-null  object \n",
      " 1   belongs_to_collection  4494 non-null   object \n",
      " 2   budget                 45466 non-null  object \n",
      " 3   genres                 45466 non-null  object \n",
      " 4   homepage               7782 non-null   object \n",
      " 5   id                     45466 non-null  object \n",
      " 6   imdb_id                45449 non-null  object \n",
      " 7   original_language      45455 non-null  object \n",
      " 8   original_title         45466 non-null  object \n",
      " 9   overview               44512 non-null  object \n",
      " 10  popularity             45461 non-null  object \n",
      " 11  poster_path            45080 non-null  object \n",
      " 12  production_companies   45463 non-null  object \n",
      " 13  production_countries   45463 non-null  object \n",
      " 14  release_date           45379 non-null  object \n",
      " 15  revenue                45460 non-null  float64\n",
      " 16  runtime                45203 non-null  float64\n",
      " 17  spoken_languages       45460 non-null  object \n",
      " 18  status                 45379 non-null  object \n",
      " 19  tagline                20412 non-null  object \n",
      " 20  title                  45460 non-null  object \n",
      " 21  video                  45460 non-null  object \n",
      " 22  vote_average           45460 non-null  float64\n",
      " 23  vote_count             45460 non-null  float64\n",
      "dtypes: float64(4), object(20)\n",
      "memory usage: 8.3+ MB\n"
     ]
    }
   ],
   "source": [
    "#informacion resumida del Dataframe  \n",
    "Data.info()"
   ]
  },
  {
   "cell_type": "code",
   "execution_count": 4,
   "metadata": {},
   "outputs": [
    {
     "data": {
      "text/plain": [
       "13"
      ]
     },
     "execution_count": 4,
     "metadata": {},
     "output_type": "execute_result"
    }
   ],
   "source": [
    "Data.duplicated().sum()   ### verificamos y  hay duplicados"
   ]
  },
  {
   "cell_type": "code",
   "execution_count": 354,
   "metadata": {},
   "outputs": [],
   "source": [
    "### eliminamos duplicados \n",
    "\n",
    "NewData= Data.drop_duplicates()"
   ]
  },
  {
   "cell_type": "code",
   "execution_count": 355,
   "metadata": {},
   "outputs": [
    {
     "data": {
      "text/plain": [
       "adult                        0\n",
       "belongs_to_collection    40959\n",
       "budget                       0\n",
       "genres                       0\n",
       "homepage                 37673\n",
       "id                           0\n",
       "imdb_id                     17\n",
       "original_language           11\n",
       "original_title               0\n",
       "overview                   954\n",
       "popularity                   5\n",
       "poster_path                386\n",
       "production_companies         3\n",
       "production_countries         3\n",
       "release_date                87\n",
       "revenue                      6\n",
       "runtime                    263\n",
       "spoken_languages             6\n",
       "status                      87\n",
       "tagline                  25045\n",
       "title                        6\n",
       "video                        6\n",
       "vote_average                 6\n",
       "vote_count                   6\n",
       "dtype: int64"
      ]
     },
     "execution_count": 355,
     "metadata": {},
     "output_type": "execute_result"
    }
   ],
   "source": [
    "# Contar la cantidad de valores nulos en todo el DataFrame\n",
    "cantidad_nulos =NewData.isnull().sum()\n",
    "cantidad_nulos"
   ]
  },
  {
   "cell_type": "code",
   "execution_count": 356,
   "metadata": {},
   "outputs": [
    {
     "data": {
      "text/html": [
       "<div>\n",
       "<style scoped>\n",
       "    .dataframe tbody tr th:only-of-type {\n",
       "        vertical-align: middle;\n",
       "    }\n",
       "\n",
       "    .dataframe tbody tr th {\n",
       "        vertical-align: top;\n",
       "    }\n",
       "\n",
       "    .dataframe thead th {\n",
       "        text-align: right;\n",
       "    }\n",
       "</style>\n",
       "<table border=\"1\" class=\"dataframe\">\n",
       "  <thead>\n",
       "    <tr style=\"text-align: right;\">\n",
       "      <th></th>\n",
       "      <th>belongs_to_collection</th>\n",
       "      <th>genres</th>\n",
       "      <th>production_companies</th>\n",
       "      <th>production_countries</th>\n",
       "      <th>spoken_languages</th>\n",
       "    </tr>\n",
       "  </thead>\n",
       "  <tbody>\n",
       "    <tr>\n",
       "      <th>0</th>\n",
       "      <td>{'id': 10194, 'name': 'Toy Story Collection', ...</td>\n",
       "      <td>[{'id': 16, 'name': 'Animation'}, {'id': 35, '...</td>\n",
       "      <td>[{'name': 'Pixar Animation Studios', 'id': 3}]</td>\n",
       "      <td>[{'iso_3166_1': 'US', 'name': 'United States o...</td>\n",
       "      <td>[{'iso_639_1': 'en', 'name': 'English'}]</td>\n",
       "    </tr>\n",
       "    <tr>\n",
       "      <th>1</th>\n",
       "      <td>NaN</td>\n",
       "      <td>[{'id': 12, 'name': 'Adventure'}, {'id': 14, '...</td>\n",
       "      <td>[{'name': 'TriStar Pictures', 'id': 559}, {'na...</td>\n",
       "      <td>[{'iso_3166_1': 'US', 'name': 'United States o...</td>\n",
       "      <td>[{'iso_639_1': 'en', 'name': 'English'}, {'iso...</td>\n",
       "    </tr>\n",
       "    <tr>\n",
       "      <th>2</th>\n",
       "      <td>{'id': 119050, 'name': 'Grumpy Old Men Collect...</td>\n",
       "      <td>[{'id': 10749, 'name': 'Romance'}, {'id': 35, ...</td>\n",
       "      <td>[{'name': 'Warner Bros.', 'id': 6194}, {'name'...</td>\n",
       "      <td>[{'iso_3166_1': 'US', 'name': 'United States o...</td>\n",
       "      <td>[{'iso_639_1': 'en', 'name': 'English'}]</td>\n",
       "    </tr>\n",
       "    <tr>\n",
       "      <th>3</th>\n",
       "      <td>NaN</td>\n",
       "      <td>[{'id': 35, 'name': 'Comedy'}, {'id': 18, 'nam...</td>\n",
       "      <td>[{'name': 'Twentieth Century Fox Film Corporat...</td>\n",
       "      <td>[{'iso_3166_1': 'US', 'name': 'United States o...</td>\n",
       "      <td>[{'iso_639_1': 'en', 'name': 'English'}]</td>\n",
       "    </tr>\n",
       "    <tr>\n",
       "      <th>4</th>\n",
       "      <td>{'id': 96871, 'name': 'Father of the Bride Col...</td>\n",
       "      <td>[{'id': 35, 'name': 'Comedy'}]</td>\n",
       "      <td>[{'name': 'Sandollar Productions', 'id': 5842}...</td>\n",
       "      <td>[{'iso_3166_1': 'US', 'name': 'United States o...</td>\n",
       "      <td>[{'iso_639_1': 'en', 'name': 'English'}]</td>\n",
       "    </tr>\n",
       "  </tbody>\n",
       "</table>\n",
       "</div>"
      ],
      "text/plain": [
       "                               belongs_to_collection  \\\n",
       "0  {'id': 10194, 'name': 'Toy Story Collection', ...   \n",
       "1                                                NaN   \n",
       "2  {'id': 119050, 'name': 'Grumpy Old Men Collect...   \n",
       "3                                                NaN   \n",
       "4  {'id': 96871, 'name': 'Father of the Bride Col...   \n",
       "\n",
       "                                              genres  \\\n",
       "0  [{'id': 16, 'name': 'Animation'}, {'id': 35, '...   \n",
       "1  [{'id': 12, 'name': 'Adventure'}, {'id': 14, '...   \n",
       "2  [{'id': 10749, 'name': 'Romance'}, {'id': 35, ...   \n",
       "3  [{'id': 35, 'name': 'Comedy'}, {'id': 18, 'nam...   \n",
       "4                     [{'id': 35, 'name': 'Comedy'}]   \n",
       "\n",
       "                                production_companies  \\\n",
       "0     [{'name': 'Pixar Animation Studios', 'id': 3}]   \n",
       "1  [{'name': 'TriStar Pictures', 'id': 559}, {'na...   \n",
       "2  [{'name': 'Warner Bros.', 'id': 6194}, {'name'...   \n",
       "3  [{'name': 'Twentieth Century Fox Film Corporat...   \n",
       "4  [{'name': 'Sandollar Productions', 'id': 5842}...   \n",
       "\n",
       "                                production_countries  \\\n",
       "0  [{'iso_3166_1': 'US', 'name': 'United States o...   \n",
       "1  [{'iso_3166_1': 'US', 'name': 'United States o...   \n",
       "2  [{'iso_3166_1': 'US', 'name': 'United States o...   \n",
       "3  [{'iso_3166_1': 'US', 'name': 'United States o...   \n",
       "4  [{'iso_3166_1': 'US', 'name': 'United States o...   \n",
       "\n",
       "                                    spoken_languages  \n",
       "0           [{'iso_639_1': 'en', 'name': 'English'}]  \n",
       "1  [{'iso_639_1': 'en', 'name': 'English'}, {'iso...  \n",
       "2           [{'iso_639_1': 'en', 'name': 'English'}]  \n",
       "3           [{'iso_639_1': 'en', 'name': 'English'}]  \n",
       "4           [{'iso_639_1': 'en', 'name': 'English'}]  "
      ]
     },
     "execution_count": 356,
     "metadata": {},
     "output_type": "execute_result"
    }
   ],
   "source": [
    "# observamos que columnas contienen datos anidados ademas de  belongs_to_collection, production_companies, spoken_languages,tambien tenemos production_countries y spoken_languages.\n",
    "\n",
    "NewData[['belongs_to_collection','genres','production_companies',\n",
    "       'production_countries',\n",
    "       'spoken_languages']].head(5)"
   ]
  },
  {
   "cell_type": "code",
   "execution_count": 357,
   "metadata": {},
   "outputs": [],
   "source": [
    "NewData.reset_index(drop=True, inplace=True)   # restablecemos los indices antes de la eliminación de filas."
   ]
  },
  {
   "attachments": {},
   "cell_type": "markdown",
   "metadata": {},
   "source": [
    "Cuando se trabajo con las columnas 'production_companies' y production countries',se detectaron filas con valores nan como float, revisando las filas\n",
    "pude detectar que no contienen datos importantes.\n"
   ]
  },
  {
   "cell_type": "code",
   "execution_count": 358,
   "metadata": {},
   "outputs": [
    {
     "name": "stderr",
     "output_type": "stream",
     "text": [
      "C:\\Users\\jorge\\AppData\\Local\\Temp\\ipykernel_9808\\1073493403.py:7: SettingWithCopyWarning: \n",
      "A value is trying to be set on a copy of a slice from a DataFrame\n",
      "\n",
      "See the caveats in the documentation: https://pandas.pydata.org/pandas-docs/stable/user_guide/indexing.html#returning-a-view-versus-a-copy\n",
      "  NewData.drop(indices_a_eliminar, axis=0, inplace=True) ### eliminamos lalista de indices\n"
     ]
    }
   ],
   "source": [
    "indices_a_eliminar = []\n",
    "for index, lista in enumerate(NewData['production_companies']): \n",
    "#iteramos la columna production_companies obteniendo los valores y guardando los indices en una lista\n",
    "    if isinstance(lista, float): ## los valores que obtenemos son valores de tipo float\n",
    "        indices_a_eliminar.append(index)\n",
    "if indices_a_eliminar:\n",
    "    NewData.drop(indices_a_eliminar, axis=0, inplace=True) ### eliminamos lalista de indices\n",
    "else:\n",
    "    print('no se encontraron valores para eliminar')\n"
   ]
  },
  {
   "cell_type": "code",
   "execution_count": 359,
   "metadata": {},
   "outputs": [
    {
     "name": "stderr",
     "output_type": "stream",
     "text": [
      "C:\\Users\\jorge\\AppData\\Local\\Temp\\ipykernel_9808\\3987015321.py:2: SettingWithCopyWarning: \n",
      "A value is trying to be set on a copy of a slice from a DataFrame.\n",
      "Try using .loc[row_indexer,col_indexer] = value instead\n",
      "\n",
      "See the caveats in the documentation: https://pandas.pydata.org/pandas-docs/stable/user_guide/indexing.html#returning-a-view-versus-a-copy\n",
      "  NewData['id'] = pd.to_numeric(NewData['id'], errors='coerce')\n",
      "C:\\Users\\jorge\\AppData\\Local\\Temp\\ipykernel_9808\\3987015321.py:7: SettingWithCopyWarning: \n",
      "A value is trying to be set on a copy of a slice from a DataFrame.\n",
      "Try using .loc[row_indexer,col_indexer] = value instead\n",
      "\n",
      "See the caveats in the documentation: https://pandas.pydata.org/pandas-docs/stable/user_guide/indexing.html#returning-a-view-versus-a-copy\n",
      "  NewData['id'] = NewData['id'].astype('Int64')\n"
     ]
    }
   ],
   "source": [
    "# Reemplazamos los valores no numéricos y nulos en la columna id con NaN\n",
    "NewData['id'] = pd.to_numeric(NewData['id'], errors='coerce')\n",
    "#Se utiliza para convertir los valores de la columna a números y se establece errors='coerce'\n",
    "#  para que los valores no numéricos se reemplacen con NaN (valores faltantes)\n",
    "\n",
    "# Luego, convierte los valores restantes a enteros\n",
    "NewData['id'] = NewData['id'].astype('Int64')\n"
   ]
  },
  {
   "cell_type": "code",
   "execution_count": 360,
   "metadata": {},
   "outputs": [
    {
     "name": "stderr",
     "output_type": "stream",
     "text": [
      "C:\\Users\\jorge\\AppData\\Local\\Temp\\ipykernel_9808\\2000988871.py:3: SettingWithCopyWarning: \n",
      "A value is trying to be set on a copy of a slice from a DataFrame\n",
      "\n",
      "See the caveats in the documentation: https://pandas.pydata.org/pandas-docs/stable/user_guide/indexing.html#returning-a-view-versus-a-copy\n",
      "  NewData['belongs_to_collection'].fillna('{}', inplace=True) ### rellenamos los none con diccionarios vacios para poder iterar\n"
     ]
    },
    {
     "name": "stdout",
     "output_type": "stream",
     "text": [
      "19725 0.065736\n",
      "29491 1.931659\n",
      "35575 2.185485\n"
     ]
    },
    {
     "name": "stderr",
     "output_type": "stream",
     "text": [
      "C:\\Users\\jorge\\AppData\\Local\\Temp\\ipykernel_9808\\2000988871.py:13: SettingWithCopyWarning: \n",
      "A value is trying to be set on a copy of a slice from a DataFrame\n",
      "\n",
      "See the caveats in the documentation: https://pandas.pydata.org/pandas-docs/stable/user_guide/indexing.html#returning-a-view-versus-a-copy\n",
      "  NewData.drop(lista_de_float, inplace=True)\n"
     ]
    }
   ],
   "source": [
    "# En esta iteración estamos viendo los valores float de la columna belong_to_collection para limpiarlos.\n",
    "lista_de_float=[]\n",
    "NewData['belongs_to_collection'].fillna('{}', inplace=True) ### rellenamos los none con diccionarios vacios para poder iterar\n",
    "for index, row in NewData.iterrows():\n",
    "    if pd.notnull(row['belongs_to_collection']):\n",
    "        newJson = (eval(row['belongs_to_collection'])) #con eval transformamos los string en listas\n",
    "\n",
    "        if isinstance(newJson, float):   #verificamos que el elemento sea del tipo especificado\n",
    "            lista_de_float.append(index)   #agregamos los indices de las filas para borrar los floats\n",
    "            print(index,newJson)\n",
    "\n",
    "##Borramos las filas del DataFrame que contengan valores float\n",
    "NewData.drop(lista_de_float, inplace=True)"
   ]
  },
  {
   "attachments": {},
   "cell_type": "markdown",
   "metadata": {},
   "source": [
    "Desanidamos la columna Belongs to collection del data frame original NewData y creamos un dataframe belongs_to_collection"
   ]
  },
  {
   "cell_type": "code",
   "execution_count": 361,
   "metadata": {},
   "outputs": [],
   "source": [
    "# Crear listas vacías para los valores\n",
    "id_belongs_to_collection = []\n",
    "name_belongs_to_collection = []\n",
    "poster_path_belongs_to_collection = []\n",
    "backdrop_path_belongs_to_collection = []\n",
    "Data['belongs_to_collection'].fillna('{}', inplace=True)   # a los valores nulos asignamos dccionarios vacios\n",
    "\n",
    "for index, row in NewData.iterrows(): #iteramos sobre las filas , devolviendo un iterador que proporciona pares de índice y\n",
    "    # serie correspondientes a cada fila.\n",
    "         newJson = (eval(row['belongs_to_collection']))    #eval() evaluará esa cadena y asignará el resultado \n",
    "### agregamos valores a las listas vacias\n",
    "         idBelongsInt = newJson.get('id')\n",
    "         if idBelongsInt is not None:\n",
    "            int(idBelongsInt) / 1\n",
    "         id_belongs_to_collection.append(idBelongsInt)\n",
    "         name_belongs_to_collection.append(newJson.get('name'))\n",
    "         poster_path_belongs_to_collection.append(newJson.get('poster_path'))\n",
    "         backdrop_path_belongs_to_collection.append(newJson.get('backdrop_path'))\n",
    "         \n",
    "\n",
    "# Agregamos  las columnas al nuevo DataFrame junto al id\n",
    "\n",
    "Belong_to_collection= pd.DataFrame()\n",
    "Belong_to_collection['id'] = NewData['id']\n",
    "Belong_to_collection['id_belongs_to_collection'] = id_belongs_to_collection\n",
    "Belong_to_collection['name_belongs_to_collection'] = name_belongs_to_collection\n",
    "Belong_to_collection['poster_path_belongs_to_collection'] = poster_path_belongs_to_collection\n",
    "Belong_to_collection['backdrop_path_belongs_to_collection'] = backdrop_path_belongs_to_collection\n"
   ]
  },
  {
   "cell_type": "code",
   "execution_count": 362,
   "metadata": {},
   "outputs": [
    {
     "data": {
      "text/html": [
       "<div>\n",
       "<style scoped>\n",
       "    .dataframe tbody tr th:only-of-type {\n",
       "        vertical-align: middle;\n",
       "    }\n",
       "\n",
       "    .dataframe tbody tr th {\n",
       "        vertical-align: top;\n",
       "    }\n",
       "\n",
       "    .dataframe thead th {\n",
       "        text-align: right;\n",
       "    }\n",
       "</style>\n",
       "<table border=\"1\" class=\"dataframe\">\n",
       "  <thead>\n",
       "    <tr style=\"text-align: right;\">\n",
       "      <th></th>\n",
       "      <th>id</th>\n",
       "      <th>id_belongs_to_collection</th>\n",
       "      <th>name_belongs_to_collection</th>\n",
       "      <th>poster_path_belongs_to_collection</th>\n",
       "      <th>backdrop_path_belongs_to_collection</th>\n",
       "    </tr>\n",
       "  </thead>\n",
       "  <tbody>\n",
       "    <tr>\n",
       "      <th>0</th>\n",
       "      <td>862</td>\n",
       "      <td>10194.0</td>\n",
       "      <td>Toy Story Collection</td>\n",
       "      <td>/7G9915LfUQ2lVfwMEEhDsn3kT4B.jpg</td>\n",
       "      <td>/9FBwqcd9IRruEDUrTdcaafOMKUq.jpg</td>\n",
       "    </tr>\n",
       "    <tr>\n",
       "      <th>1</th>\n",
       "      <td>8844</td>\n",
       "      <td>NaN</td>\n",
       "      <td>None</td>\n",
       "      <td>None</td>\n",
       "      <td>None</td>\n",
       "    </tr>\n",
       "    <tr>\n",
       "      <th>2</th>\n",
       "      <td>15602</td>\n",
       "      <td>119050.0</td>\n",
       "      <td>Grumpy Old Men Collection</td>\n",
       "      <td>/nLvUdqgPgm3F85NMCii9gVFUcet.jpg</td>\n",
       "      <td>/hypTnLot2z8wpFS7qwsQHW1uV8u.jpg</td>\n",
       "    </tr>\n",
       "    <tr>\n",
       "      <th>3</th>\n",
       "      <td>31357</td>\n",
       "      <td>NaN</td>\n",
       "      <td>None</td>\n",
       "      <td>None</td>\n",
       "      <td>None</td>\n",
       "    </tr>\n",
       "    <tr>\n",
       "      <th>4</th>\n",
       "      <td>11862</td>\n",
       "      <td>96871.0</td>\n",
       "      <td>Father of the Bride Collection</td>\n",
       "      <td>/nts4iOmNnq7GNicycMJ9pSAn204.jpg</td>\n",
       "      <td>/7qwE57OVZmMJChBpLEbJEmzUydk.jpg</td>\n",
       "    </tr>\n",
       "    <tr>\n",
       "      <th>...</th>\n",
       "      <td>...</td>\n",
       "      <td>...</td>\n",
       "      <td>...</td>\n",
       "      <td>...</td>\n",
       "      <td>...</td>\n",
       "    </tr>\n",
       "    <tr>\n",
       "      <th>45448</th>\n",
       "      <td>439050</td>\n",
       "      <td>NaN</td>\n",
       "      <td>None</td>\n",
       "      <td>None</td>\n",
       "      <td>None</td>\n",
       "    </tr>\n",
       "    <tr>\n",
       "      <th>45449</th>\n",
       "      <td>111109</td>\n",
       "      <td>NaN</td>\n",
       "      <td>None</td>\n",
       "      <td>None</td>\n",
       "      <td>None</td>\n",
       "    </tr>\n",
       "    <tr>\n",
       "      <th>45450</th>\n",
       "      <td>67758</td>\n",
       "      <td>NaN</td>\n",
       "      <td>None</td>\n",
       "      <td>None</td>\n",
       "      <td>None</td>\n",
       "    </tr>\n",
       "    <tr>\n",
       "      <th>45451</th>\n",
       "      <td>227506</td>\n",
       "      <td>NaN</td>\n",
       "      <td>None</td>\n",
       "      <td>None</td>\n",
       "      <td>None</td>\n",
       "    </tr>\n",
       "    <tr>\n",
       "      <th>45452</th>\n",
       "      <td>461257</td>\n",
       "      <td>NaN</td>\n",
       "      <td>None</td>\n",
       "      <td>None</td>\n",
       "      <td>None</td>\n",
       "    </tr>\n",
       "  </tbody>\n",
       "</table>\n",
       "<p>45447 rows × 5 columns</p>\n",
       "</div>"
      ],
      "text/plain": [
       "           id  id_belongs_to_collection      name_belongs_to_collection  \\\n",
       "0         862                   10194.0            Toy Story Collection   \n",
       "1        8844                       NaN                            None   \n",
       "2       15602                  119050.0       Grumpy Old Men Collection   \n",
       "3       31357                       NaN                            None   \n",
       "4       11862                   96871.0  Father of the Bride Collection   \n",
       "...       ...                       ...                             ...   \n",
       "45448  439050                       NaN                            None   \n",
       "45449  111109                       NaN                            None   \n",
       "45450   67758                       NaN                            None   \n",
       "45451  227506                       NaN                            None   \n",
       "45452  461257                       NaN                            None   \n",
       "\n",
       "      poster_path_belongs_to_collection backdrop_path_belongs_to_collection  \n",
       "0      /7G9915LfUQ2lVfwMEEhDsn3kT4B.jpg    /9FBwqcd9IRruEDUrTdcaafOMKUq.jpg  \n",
       "1                                  None                                None  \n",
       "2      /nLvUdqgPgm3F85NMCii9gVFUcet.jpg    /hypTnLot2z8wpFS7qwsQHW1uV8u.jpg  \n",
       "3                                  None                                None  \n",
       "4      /nts4iOmNnq7GNicycMJ9pSAn204.jpg    /7qwE57OVZmMJChBpLEbJEmzUydk.jpg  \n",
       "...                                 ...                                 ...  \n",
       "45448                              None                                None  \n",
       "45449                              None                                None  \n",
       "45450                              None                                None  \n",
       "45451                              None                                None  \n",
       "45452                              None                                None  \n",
       "\n",
       "[45447 rows x 5 columns]"
      ]
     },
     "execution_count": 362,
     "metadata": {},
     "output_type": "execute_result"
    }
   ],
   "source": [
    "Belong_to_collection"
   ]
  },
  {
   "cell_type": "code",
   "execution_count": 363,
   "metadata": {},
   "outputs": [
    {
     "name": "stdout",
     "output_type": "stream",
     "text": [
      "0\n"
     ]
    }
   ],
   "source": [
    "contador_nan = Belong_to_collection['id'].isna().sum()   #contador de nan\n",
    "print(contador_nan)"
   ]
  },
  {
   "cell_type": "code",
   "execution_count": 365,
   "metadata": {},
   "outputs": [
    {
     "data": {
      "text/plain": [
       "415931.0    29\n",
       "421566.0    27\n",
       "645.0       26\n",
       "96887.0     26\n",
       "37261.0     25\n",
       "            ..\n",
       "147207.0     1\n",
       "260520.0     1\n",
       "268014.0     1\n",
       "479549.0     1\n",
       "200641.0     1\n",
       "Name: id_belongs_to_collection, Length: 1695, dtype: int64"
      ]
     },
     "execution_count": 365,
     "metadata": {},
     "output_type": "execute_result"
    }
   ],
   "source": [
    "Belong_to_collection['id_belongs_to_collection'].value_counts() #calculamos el número de apariciones de cada elemento"
   ]
  },
  {
   "cell_type": "code",
   "execution_count": 366,
   "metadata": {},
   "outputs": [],
   "source": [
    "# Identifico las columnas que quiero limpiar\n",
    "columnas_limpiar = ['id_belongs_to_collection', 'name_belongs_to_collection']\n",
    "\n",
    "# Creo un nuevo DataFrame para almacenar los valores no repetidos\n",
    "df_belongs = pd.DataFrame()\n",
    "\n",
    "# Iteramos sobre las columnas y obtenemos los valores no repetidos a travez de unique\n",
    "for columna in columnas_limpiar:\n",
    "    valores_no_repetidos = Belong_to_collection[columna].unique()\n",
    "    # Agregamos los valores no repetidos al nuevo DataFrame\n",
    "    df_belongs[columna] = valores_no_repetidos\n",
    "\n",
    "# Agregamos las columnas adicionales del DataFrame original al DataFrame limpio\n",
    "columnas_adicionales = ['id']\n",
    "\n",
    "# Reemplazamos con la columna adicional.\n",
    "\n",
    "for columna in columnas_adicionales:\n",
    "    df_belongs[columna] = Belong_to_collection[columna]\n",
    "\n",
    "# Guardamos el DataFrame limpio en un nuevo archivo CSV\n",
    "df_belongs.to_csv('belongs.csv', index=False)\n"
   ]
  },
  {
   "cell_type": "code",
   "execution_count": 367,
   "metadata": {},
   "outputs": [],
   "source": [
    "Belong_to_collection.dropna(subset=['id_belongs_to_collection'], inplace=True)\n",
    "#borramos los valores nulos a partir de la columna id belong to collection,ya que ahi podemos seleccionar la mayoria de los valores nulos."
   ]
  },
  {
   "cell_type": "code",
   "execution_count": 368,
   "metadata": {},
   "outputs": [],
   "source": [
    "# agregamos los valores desanidados al dataframe original\n",
    "\n",
    "NewData.insert(1,'id_belongs_to_collection', id_belongs_to_collection)\n",
    "NewData.insert(2,'name_belongs_to_collection' , name_belongs_to_collection)\n",
    "NewData.insert(3,'poster_path_belongs_to_collection', poster_path_belongs_to_collection)\n",
    "NewData.insert(4,'backdrop_path_belongs_to_collection', backdrop_path_belongs_to_collection)\n"
   ]
  },
  {
   "cell_type": "code",
   "execution_count": 369,
   "metadata": {},
   "outputs": [
    {
     "name": "stderr",
     "output_type": "stream",
     "text": [
      "C:\\Users\\jorge\\AppData\\Local\\Temp\\ipykernel_9808\\2559169508.py:3: SettingWithCopyWarning: \n",
      "A value is trying to be set on a copy of a slice from a DataFrame\n",
      "\n",
      "See the caveats in the documentation: https://pandas.pydata.org/pandas-docs/stable/user_guide/indexing.html#returning-a-view-versus-a-copy\n",
      "  NewData.drop('belongs_to_collection',axis=1, inplace=True)\n"
     ]
    }
   ],
   "source": [
    "### eliminamos la columna belong_to_collection original\n",
    "\n",
    "NewData.drop('belongs_to_collection',axis=1, inplace=True)"
   ]
  },
  {
   "cell_type": "code",
   "execution_count": 370,
   "metadata": {},
   "outputs": [
    {
     "data": {
      "text/html": [
       "<div>\n",
       "<style scoped>\n",
       "    .dataframe tbody tr th:only-of-type {\n",
       "        vertical-align: middle;\n",
       "    }\n",
       "\n",
       "    .dataframe tbody tr th {\n",
       "        vertical-align: top;\n",
       "    }\n",
       "\n",
       "    .dataframe thead th {\n",
       "        text-align: right;\n",
       "    }\n",
       "</style>\n",
       "<table border=\"1\" class=\"dataframe\">\n",
       "  <thead>\n",
       "    <tr style=\"text-align: right;\">\n",
       "      <th></th>\n",
       "      <th>genres</th>\n",
       "    </tr>\n",
       "  </thead>\n",
       "  <tbody>\n",
       "    <tr>\n",
       "      <th>0</th>\n",
       "      <td>[{'id': 16, 'name': 'Animation'}, {'id': 35, '...</td>\n",
       "    </tr>\n",
       "    <tr>\n",
       "      <th>1</th>\n",
       "      <td>[{'id': 12, 'name': 'Adventure'}, {'id': 14, '...</td>\n",
       "    </tr>\n",
       "    <tr>\n",
       "      <th>2</th>\n",
       "      <td>[{'id': 10749, 'name': 'Romance'}, {'id': 35, ...</td>\n",
       "    </tr>\n",
       "    <tr>\n",
       "      <th>3</th>\n",
       "      <td>[{'id': 35, 'name': 'Comedy'}, {'id': 18, 'nam...</td>\n",
       "    </tr>\n",
       "    <tr>\n",
       "      <th>4</th>\n",
       "      <td>[{'id': 35, 'name': 'Comedy'}]</td>\n",
       "    </tr>\n",
       "    <tr>\n",
       "      <th>...</th>\n",
       "      <td>...</td>\n",
       "    </tr>\n",
       "    <tr>\n",
       "      <th>45448</th>\n",
       "      <td>[{'id': 18, 'name': 'Drama'}, {'id': 10751, 'n...</td>\n",
       "    </tr>\n",
       "    <tr>\n",
       "      <th>45449</th>\n",
       "      <td>[{'id': 18, 'name': 'Drama'}]</td>\n",
       "    </tr>\n",
       "    <tr>\n",
       "      <th>45450</th>\n",
       "      <td>[{'id': 28, 'name': 'Action'}, {'id': 18, 'nam...</td>\n",
       "    </tr>\n",
       "    <tr>\n",
       "      <th>45451</th>\n",
       "      <td>[]</td>\n",
       "    </tr>\n",
       "    <tr>\n",
       "      <th>45452</th>\n",
       "      <td>[]</td>\n",
       "    </tr>\n",
       "  </tbody>\n",
       "</table>\n",
       "<p>45447 rows × 1 columns</p>\n",
       "</div>"
      ],
      "text/plain": [
       "                                                  genres\n",
       "0      [{'id': 16, 'name': 'Animation'}, {'id': 35, '...\n",
       "1      [{'id': 12, 'name': 'Adventure'}, {'id': 14, '...\n",
       "2      [{'id': 10749, 'name': 'Romance'}, {'id': 35, ...\n",
       "3      [{'id': 35, 'name': 'Comedy'}, {'id': 18, 'nam...\n",
       "4                         [{'id': 35, 'name': 'Comedy'}]\n",
       "...                                                  ...\n",
       "45448  [{'id': 18, 'name': 'Drama'}, {'id': 10751, 'n...\n",
       "45449                      [{'id': 18, 'name': 'Drama'}]\n",
       "45450  [{'id': 28, 'name': 'Action'}, {'id': 18, 'nam...\n",
       "45451                                                 []\n",
       "45452                                                 []\n",
       "\n",
       "[45447 rows x 1 columns]"
      ]
     },
     "execution_count": 370,
     "metadata": {},
     "output_type": "execute_result"
    }
   ],
   "source": [
    "NewData[['genres']]"
   ]
  },
  {
   "cell_type": "code",
   "execution_count": 371,
   "metadata": {},
   "outputs": [
    {
     "name": "stdout",
     "output_type": "stream",
     "text": [
      "Total de listas vacías: 2442\n"
     ]
    }
   ],
   "source": [
    "empty_count = 0  # Variable para contar las listas vacías\n",
    "\n",
    "# Iterarmos sobre la columna y verificamos listas vacías\n",
    "for index, lista in enumerate(NewData['genres']):\n",
    "    otherList = eval(lista) if lista else []  # Convertir a lista, considerando listas vacías\n",
    "    if len(otherList) == 0:  # Verificamos si la lista está vacía\n",
    "        empty_count += 1  # Incrementamos el contador de listas vacías\n",
    "\n",
    "# Imprimimos el total de listas vacías encontradas\n",
    "print(\"Total de listas vacías:\", empty_count)\n"
   ]
  },
  {
   "cell_type": "code",
   "execution_count": 372,
   "metadata": {},
   "outputs": [],
   "source": [
    "NewData.reset_index(drop=True, inplace=True)   # restablecemos los indices antes de la eliminación de filas"
   ]
  },
  {
   "cell_type": "code",
   "execution_count": 373,
   "metadata": {},
   "outputs": [],
   "source": [
    "# Creo listas vacías para almacenar los valores de id y name\n",
    "id_values = []\n",
    "name_values = []\n",
    "\n",
    "# Recorremos el DataFrame original\n",
    "for lista in NewData['genres']:\n",
    "    otherList = eval(lista) if lista else []  # Convierto a lista, considerando lista vacía\n",
    "    \n",
    "    # Verificar si la lista está vacía\n",
    "    if len(otherList) == 0:\n",
    "        id_val = None\n",
    "        name_val = None\n",
    "    else:\n",
    "        # Obtengo todos los valores de id y name en la lista\n",
    "        id_vals = [item.get('id') for item in otherList]\n",
    "        name_vals = [item.get('name') for item in otherList]\n",
    "        \n",
    "        id_val = id_vals\n",
    "        name_val = name_vals\n",
    "    \n",
    "    # Agregamos los valores a las listas correspondientes\n",
    "    id_values.append(id_val)\n",
    "    name_values.append(name_val)\n",
    "\n",
    "\n",
    "#agregamos los valores al dataframe original.\n",
    "\n",
    "NewData.insert(5,'id_genres',id_values)\n",
    "NewData.insert(6,'name_genres' ,name_values)\n",
    "\n",
    "\n",
    "\n"
   ]
  },
  {
   "cell_type": "code",
   "execution_count": 374,
   "metadata": {},
   "outputs": [
    {
     "data": {
      "text/html": [
       "<div>\n",
       "<style scoped>\n",
       "    .dataframe tbody tr th:only-of-type {\n",
       "        vertical-align: middle;\n",
       "    }\n",
       "\n",
       "    .dataframe tbody tr th {\n",
       "        vertical-align: top;\n",
       "    }\n",
       "\n",
       "    .dataframe thead th {\n",
       "        text-align: right;\n",
       "    }\n",
       "</style>\n",
       "<table border=\"1\" class=\"dataframe\">\n",
       "  <thead>\n",
       "    <tr style=\"text-align: right;\">\n",
       "      <th></th>\n",
       "      <th>id</th>\n",
       "      <th>id_genres</th>\n",
       "      <th>name_genres</th>\n",
       "    </tr>\n",
       "  </thead>\n",
       "  <tbody>\n",
       "    <tr>\n",
       "      <th>0</th>\n",
       "      <td>862</td>\n",
       "      <td>16</td>\n",
       "      <td>Animation</td>\n",
       "    </tr>\n",
       "    <tr>\n",
       "      <th>1</th>\n",
       "      <td>862</td>\n",
       "      <td>35</td>\n",
       "      <td>Comedy</td>\n",
       "    </tr>\n",
       "    <tr>\n",
       "      <th>2</th>\n",
       "      <td>862</td>\n",
       "      <td>10751</td>\n",
       "      <td>Family</td>\n",
       "    </tr>\n",
       "    <tr>\n",
       "      <th>3</th>\n",
       "      <td>8844</td>\n",
       "      <td>12</td>\n",
       "      <td>Adventure</td>\n",
       "    </tr>\n",
       "    <tr>\n",
       "      <th>4</th>\n",
       "      <td>8844</td>\n",
       "      <td>14</td>\n",
       "      <td>Fantasy</td>\n",
       "    </tr>\n",
       "  </tbody>\n",
       "</table>\n",
       "</div>"
      ],
      "text/plain": [
       "     id  id_genres name_genres\n",
       "0   862         16   Animation\n",
       "1   862         35      Comedy\n",
       "2   862      10751      Family\n",
       "3  8844         12   Adventure\n",
       "4  8844         14     Fantasy"
      ]
     },
     "execution_count": 374,
     "metadata": {},
     "output_type": "execute_result"
    }
   ],
   "source": [
    " #Crear listas vacías para los valores\n",
    "id_genres = []\n",
    "name_genres = []\n",
    "id_original = []\n",
    "\n",
    "for index, valor in enumerate(NewData['id_genres']):\n",
    "    if valor != None:\n",
    "        for index2, valor2 in enumerate(valor):\n",
    "            id_genres.append(valor2)\n",
    "            name_genres.append(NewData['name_genres'][index][index2])\n",
    "            id_original.append(NewData['id'][index])  # Agregamos id peliculas \n",
    "\n",
    "\n",
    "# Creamos un nuevo DataFrame\n",
    "# Agregamos las columnas al nuevo DataFrame\n",
    "genres = pd.DataFrame()\n",
    "genres['id'] = id_original\n",
    "genres['id_genres'] = id_genres\n",
    "genres['name_genres'] = name_genres\n",
    "\n",
    "genres.head(5)\n"
   ]
  },
  {
   "cell_type": "code",
   "execution_count": 375,
   "metadata": {},
   "outputs": [],
   "source": [
    "\n",
    "# Identifico las columnas que quiero limpiar\n",
    "columnas_limpiar = ['id_genres','name_genres']\n",
    "\n",
    "# Creamos un nuevo DataFrame para almacenar los valores no repetidos\n",
    "df_genres = pd.DataFrame()\n",
    "\n",
    "# Iteramos sobre las columnas y obtenemos los valores no repetidos\n",
    "for columna in columnas_limpiar:\n",
    "    valores_no_repetidos = genres[columna].unique()  ### valores únicos \n",
    "# Agregamos los valores no repetidos al nuevo DataFrame\n",
    "    df_genres[columna] = valores_no_repetidos\n",
    "# Agregamos las columnas adicionales del DataFrame original al DataFrame limpio en este caso el id peliculas\n",
    "columnas_adicionales = ['id']\n",
    "\n",
    "for columna in columnas_adicionales:\n",
    "    df_genres[columna] = genres[columna]\n",
    "\n",
    "# Guardamos el DataFrame limpio en un nuevo archivo CSV\n",
    "df_genres.to_csv('genres.csv', index=False)"
   ]
  },
  {
   "cell_type": "code",
   "execution_count": 376,
   "metadata": {},
   "outputs": [
    {
     "name": "stderr",
     "output_type": "stream",
     "text": [
      "C:\\Users\\jorge\\AppData\\Local\\Temp\\ipykernel_9808\\2196064759.py:1: SettingWithCopyWarning: \n",
      "A value is trying to be set on a copy of a slice from a DataFrame\n",
      "\n",
      "See the caveats in the documentation: https://pandas.pydata.org/pandas-docs/stable/user_guide/indexing.html#returning-a-view-versus-a-copy\n",
      "  NewData.drop('genres',axis=1, inplace=True)  # elimino la columna genres del dataframe original\n"
     ]
    }
   ],
   "source": [
    "NewData.drop('genres',axis=1, inplace=True)  # elimino la columna genres del dataframe original"
   ]
  },
  {
   "cell_type": "code",
   "execution_count": 377,
   "metadata": {},
   "outputs": [],
   "source": [
    "# Restablecemos los índices después de la eliminación de filas\n",
    "NewData.reset_index(drop=True, inplace=True)"
   ]
  },
  {
   "cell_type": "code",
   "execution_count": 378,
   "metadata": {},
   "outputs": [
    {
     "data": {
      "text/html": [
       "<div>\n",
       "<style scoped>\n",
       "    .dataframe tbody tr th:only-of-type {\n",
       "        vertical-align: middle;\n",
       "    }\n",
       "\n",
       "    .dataframe tbody tr th {\n",
       "        vertical-align: top;\n",
       "    }\n",
       "\n",
       "    .dataframe thead th {\n",
       "        text-align: right;\n",
       "    }\n",
       "</style>\n",
       "<table border=\"1\" class=\"dataframe\">\n",
       "  <thead>\n",
       "    <tr style=\"text-align: right;\">\n",
       "      <th></th>\n",
       "      <th>production_companies</th>\n",
       "    </tr>\n",
       "  </thead>\n",
       "  <tbody>\n",
       "    <tr>\n",
       "      <th>0</th>\n",
       "      <td>[{'name': 'Pixar Animation Studios', 'id': 3}]</td>\n",
       "    </tr>\n",
       "    <tr>\n",
       "      <th>1</th>\n",
       "      <td>[{'name': 'TriStar Pictures', 'id': 559}, {'na...</td>\n",
       "    </tr>\n",
       "    <tr>\n",
       "      <th>2</th>\n",
       "      <td>[{'name': 'Warner Bros.', 'id': 6194}, {'name'...</td>\n",
       "    </tr>\n",
       "    <tr>\n",
       "      <th>3</th>\n",
       "      <td>[{'name': 'Twentieth Century Fox Film Corporat...</td>\n",
       "    </tr>\n",
       "    <tr>\n",
       "      <th>4</th>\n",
       "      <td>[{'name': 'Sandollar Productions', 'id': 5842}...</td>\n",
       "    </tr>\n",
       "  </tbody>\n",
       "</table>\n",
       "</div>"
      ],
      "text/plain": [
       "                                production_companies\n",
       "0     [{'name': 'Pixar Animation Studios', 'id': 3}]\n",
       "1  [{'name': 'TriStar Pictures', 'id': 559}, {'na...\n",
       "2  [{'name': 'Warner Bros.', 'id': 6194}, {'name'...\n",
       "3  [{'name': 'Twentieth Century Fox Film Corporat...\n",
       "4  [{'name': 'Sandollar Productions', 'id': 5842}..."
      ]
     },
     "execution_count": 378,
     "metadata": {},
     "output_type": "execute_result"
    }
   ],
   "source": [
    "NewData[['production_companies']].head(5)"
   ]
  },
  {
   "cell_type": "code",
   "execution_count": 379,
   "metadata": {},
   "outputs": [
    {
     "name": "stdout",
     "output_type": "stream",
     "text": [
      "Total de listas vacías: 11872\n"
     ]
    }
   ],
   "source": [
    "empty_count = 0  # Variable para contar las listas vacías  ### se encontraron valores reconocidos como float\n",
    "\n",
    "# Iterar sobre la columna y verificar listas vacías\n",
    "for index, lista in enumerate(NewData['production_companies']):\n",
    "        otherList = eval(lista) if lista else \"[]\"  # Convertir a lista, considerando listas vacías\n",
    "        if len(otherList) == 0:  # Verificar si la lista está vacía\n",
    "            empty_count += 1  # Incrementar el contador de listas vacías\n",
    "\n",
    "# Imprimir el total de listas vacías encontradas\n",
    "print(\"Total de listas vacías:\", empty_count)"
   ]
  },
  {
   "cell_type": "code",
   "execution_count": 380,
   "metadata": {},
   "outputs": [
    {
     "data": {
      "text/plain": [
       "0           [{'name': 'Pixar Animation Studios', 'id': 3}]\n",
       "1        [{'name': 'TriStar Pictures', 'id': 559}, {'na...\n",
       "2        [{'name': 'Warner Bros.', 'id': 6194}, {'name'...\n",
       "3        [{'name': 'Twentieth Century Fox Film Corporat...\n",
       "4        [{'name': 'Sandollar Productions', 'id': 5842}...\n",
       "                               ...                        \n",
       "45442                                                   []\n",
       "45443               [{'name': 'Sine Olivia', 'id': 19653}]\n",
       "45444    [{'name': 'American World Pictures', 'id': 6165}]\n",
       "45445                 [{'name': 'Yermoliev', 'id': 88753}]\n",
       "45446                                                   []\n",
       "Name: production_companies, Length: 45447, dtype: object"
      ]
     },
     "execution_count": 380,
     "metadata": {},
     "output_type": "execute_result"
    }
   ],
   "source": [
    "NewData['production_companies'] "
   ]
  },
  {
   "cell_type": "code",
   "execution_count": 381,
   "metadata": {},
   "outputs": [],
   "source": [
    "# Creamos listas vacías para almacenar los valores de id y name\n",
    "name_values = []\n",
    "id_values = []\n",
    "\n",
    "\n",
    "# Recorremos el DataFrame original\n",
    "for lista in NewData['production_companies']:\n",
    "        otherList = eval(lista) if lista else []  # Convierto a lista, considerando lista vacía\n",
    "    \n",
    "    # Verificamos si la lista está vacía\n",
    "        if len(otherList) == 0:\n",
    "            name_val = None\n",
    "            id_val = None\n",
    "        else:\n",
    "        # Obtengo todos los valores de id y name en la lista\n",
    "            name_vals = [item.get('name') for item in otherList]\n",
    "            id_vals = [item.get('id') for item in otherList]\n",
    "            \n",
    "        \n",
    "       #valores\n",
    "            name_val = name_vals\n",
    "            id_val = id_vals\n",
    "        \n",
    "    \n",
    "    # Agregamos los valores a las listas correspondientes\n",
    "        name_values.append(name_val)\n",
    "        id_values.append(id_val)\n",
    "\n",
    "#agregamos los valores desanidados al dataframe original\n",
    "NewData.insert(7,'id_companies',id_values)\n",
    "NewData.insert(8,'name_companies' ,name_values)\n",
    "\n"
   ]
  },
  {
   "cell_type": "code",
   "execution_count": 382,
   "metadata": {},
   "outputs": [
    {
     "data": {
      "text/html": [
       "<div>\n",
       "<style scoped>\n",
       "    .dataframe tbody tr th:only-of-type {\n",
       "        vertical-align: middle;\n",
       "    }\n",
       "\n",
       "    .dataframe tbody tr th {\n",
       "        vertical-align: top;\n",
       "    }\n",
       "\n",
       "    .dataframe thead th {\n",
       "        text-align: right;\n",
       "    }\n",
       "</style>\n",
       "<table border=\"1\" class=\"dataframe\">\n",
       "  <thead>\n",
       "    <tr style=\"text-align: right;\">\n",
       "      <th></th>\n",
       "      <th>id</th>\n",
       "      <th>id_companies</th>\n",
       "      <th>name_companies</th>\n",
       "    </tr>\n",
       "  </thead>\n",
       "  <tbody>\n",
       "    <tr>\n",
       "      <th>0</th>\n",
       "      <td>862</td>\n",
       "      <td>3</td>\n",
       "      <td>Pixar Animation Studios</td>\n",
       "    </tr>\n",
       "    <tr>\n",
       "      <th>1</th>\n",
       "      <td>8844</td>\n",
       "      <td>559</td>\n",
       "      <td>TriStar Pictures</td>\n",
       "    </tr>\n",
       "    <tr>\n",
       "      <th>2</th>\n",
       "      <td>8844</td>\n",
       "      <td>2550</td>\n",
       "      <td>Teitler Film</td>\n",
       "    </tr>\n",
       "    <tr>\n",
       "      <th>3</th>\n",
       "      <td>8844</td>\n",
       "      <td>10201</td>\n",
       "      <td>Interscope Communications</td>\n",
       "    </tr>\n",
       "    <tr>\n",
       "      <th>4</th>\n",
       "      <td>15602</td>\n",
       "      <td>6194</td>\n",
       "      <td>Warner Bros.</td>\n",
       "    </tr>\n",
       "    <tr>\n",
       "      <th>5</th>\n",
       "      <td>15602</td>\n",
       "      <td>19464</td>\n",
       "      <td>Lancaster Gate</td>\n",
       "    </tr>\n",
       "    <tr>\n",
       "      <th>6</th>\n",
       "      <td>31357</td>\n",
       "      <td>306</td>\n",
       "      <td>Twentieth Century Fox Film Corporation</td>\n",
       "    </tr>\n",
       "    <tr>\n",
       "      <th>7</th>\n",
       "      <td>11862</td>\n",
       "      <td>5842</td>\n",
       "      <td>Sandollar Productions</td>\n",
       "    </tr>\n",
       "    <tr>\n",
       "      <th>8</th>\n",
       "      <td>11862</td>\n",
       "      <td>9195</td>\n",
       "      <td>Touchstone Pictures</td>\n",
       "    </tr>\n",
       "    <tr>\n",
       "      <th>9</th>\n",
       "      <td>949</td>\n",
       "      <td>508</td>\n",
       "      <td>Regency Enterprises</td>\n",
       "    </tr>\n",
       "  </tbody>\n",
       "</table>\n",
       "</div>"
      ],
      "text/plain": [
       "      id  id_companies                          name_companies\n",
       "0    862             3                 Pixar Animation Studios\n",
       "1   8844           559                        TriStar Pictures\n",
       "2   8844          2550                            Teitler Film\n",
       "3   8844         10201               Interscope Communications\n",
       "4  15602          6194                            Warner Bros.\n",
       "5  15602         19464                          Lancaster Gate\n",
       "6  31357           306  Twentieth Century Fox Film Corporation\n",
       "7  11862          5842                   Sandollar Productions\n",
       "8  11862          9195                     Touchstone Pictures\n",
       "9    949           508                     Regency Enterprises"
      ]
     },
     "execution_count": 382,
     "metadata": {},
     "output_type": "execute_result"
    }
   ],
   "source": [
    "# Creamos listas vacías para los valores\n",
    "id_original= []\n",
    "id_companies = []\n",
    "name_companies= []\n",
    "\n",
    "for index, valor in enumerate( NewData['id_companies']):\n",
    "    if valor != None:\n",
    "      for index2, valor2 in enumerate(valor):\n",
    "        id_companies.append(valor2)\n",
    "        name_companies.append(NewData['name_companies'][index][index2])\n",
    "        id_original.append(NewData['id'][index])  # Agregar id original\n",
    "\n",
    "\n",
    "# Creamos un nuevo DataFrame\n",
    "# Agregamos las columnas al nuevo DataFrame\n",
    "companies= pd.DataFrame()\n",
    "companies['id'] = id_original\n",
    "companies['id_companies'] = id_companies\n",
    "companies['name_companies'] = name_companies\n",
    "\n",
    "companies.head(10)"
   ]
  },
  {
   "cell_type": "code",
   "execution_count": 383,
   "metadata": {},
   "outputs": [],
   "source": [
    "\n",
    "# Identificamos las columnas que quiero limpiar\n",
    "columnas_limpiar = ['id_companies']\n",
    "\n",
    "# Creamos un nuevo DataFrame para almacenar los valores no repetidos\n",
    "df_companies = pd.DataFrame()\n",
    "\n",
    "# Iteramos sobre las columnas y obtenemos los valores no repetidos\n",
    "for columna in columnas_limpiar:\n",
    "    valores_no_repetidos = companies[columna].unique()  ### valores únicos \n",
    "# Agregamos los valores no repetidos al nuevo DataFrame\n",
    "    df_companies[columna] = valores_no_repetidos\n",
    "# Agregamos las columnas adicionales del DataFrame original al DataFrame limpio\n",
    "columnas_adicionales = ['id','name_companies']  \n",
    "\n",
    "for columna in columnas_adicionales:\n",
    "    df_companies[columna] = companies[columna]\n",
    "\n",
    "# Guardamos el DataFrame limpio en un nuevo archivo CSV\n",
    "df_companies.to_csv('companies.csv', index=False)"
   ]
  },
  {
   "cell_type": "code",
   "execution_count": 384,
   "metadata": {},
   "outputs": [
    {
     "name": "stderr",
     "output_type": "stream",
     "text": [
      "C:\\Users\\jorge\\AppData\\Local\\Temp\\ipykernel_9808\\2848799603.py:1: SettingWithCopyWarning: \n",
      "A value is trying to be set on a copy of a slice from a DataFrame\n",
      "\n",
      "See the caveats in the documentation: https://pandas.pydata.org/pandas-docs/stable/user_guide/indexing.html#returning-a-view-versus-a-copy\n",
      "  NewData.drop('production_companies',axis=1, inplace=True)  # elimino la columna production companies\n"
     ]
    }
   ],
   "source": [
    "NewData.drop('production_companies',axis=1, inplace=True)  # elimino la columna production companies"
   ]
  },
  {
   "cell_type": "code",
   "execution_count": 385,
   "metadata": {},
   "outputs": [
    {
     "name": "stdout",
     "output_type": "stream",
     "text": [
      "Total de listas vacías: 6280\n"
     ]
    }
   ],
   "source": [
    "empty_count = 0  # Variable para contar las listas vacías  ### se encontraron valores reconocidos como float\n",
    "\n",
    "# Iterar sobre la columna y verificar listas vacías\n",
    "for index, lista in enumerate(NewData['production_countries']):\n",
    "        otherList = eval(lista) if lista else \"[]\"  # Convertir a lista, considerando listas vacías\n",
    "        if len(otherList) == 0:  # Verificar si la lista está vacía\n",
    "            empty_count += 1  # Incrementar el contador de listas vacías\n",
    "\n",
    "# Imprimir el total de listas vacías encontradas\n",
    "print(\"Total de listas vacías:\", empty_count)"
   ]
  },
  {
   "cell_type": "code",
   "execution_count": 386,
   "metadata": {},
   "outputs": [],
   "source": [
    "# Restablecemos los índices después de la eliminación de filas\n",
    "NewData.reset_index(drop=True, inplace=True)"
   ]
  },
  {
   "cell_type": "code",
   "execution_count": 387,
   "metadata": {},
   "outputs": [],
   "source": [
    "# Creamos listas vacías para almacenar los valores de id y name\n",
    "name_values = []\n",
    "iso_values =[]\n",
    "\n",
    "\n",
    "# Recorremos el DataFrame original\n",
    "for lista in NewData['production_countries']:\n",
    "        otherList = eval(lista) if lista else []  # Convierto a lista, considerando lista vacía\n",
    "    \n",
    "    # Verificamos si la lista está vacía\n",
    "        if len(otherList) == 0:\n",
    "            name_val = None\n",
    "            iso_val = None\n",
    "        else:\n",
    "        # Obtengo todos los valores de id y name en la lista\n",
    "            name_vals = [item.get('name') for item in otherList]\n",
    "            iso_vals = [item.get('iso_3166_1') for item in otherList]\n",
    "            \n",
    "            for index, value in enumerate(iso_vals):   #en este caso se observo que repetia Congo cuando en realidad pertenecia a Democratic Republic of the Congo\n",
    "                if value == \"CD\":\n",
    "                     name_vals[index] = \"Democratic Republic of the Congo\"\n",
    "        \n",
    "        # Valores\n",
    "            name_val = name_vals\n",
    "            iso_val = iso_vals\n",
    "               \n",
    "    \n",
    "    # Agregamos los valores a las listas correspondientes\n",
    "        name_values.append(name_val)\n",
    "        iso_values.append(iso_val)\n",
    "\n"
   ]
  },
  {
   "cell_type": "code",
   "execution_count": 388,
   "metadata": {},
   "outputs": [],
   "source": [
    "#agregamos los valores desanidados al dataframe original.\n",
    "NewData.insert(9,'iso_3166_1_countries',iso_values)\n",
    "NewData.insert(10,'name_countries' ,name_values)"
   ]
  },
  {
   "cell_type": "code",
   "execution_count": 389,
   "metadata": {},
   "outputs": [
    {
     "data": {
      "text/html": [
       "<div>\n",
       "<style scoped>\n",
       "    .dataframe tbody tr th:only-of-type {\n",
       "        vertical-align: middle;\n",
       "    }\n",
       "\n",
       "    .dataframe tbody tr th {\n",
       "        vertical-align: top;\n",
       "    }\n",
       "\n",
       "    .dataframe thead th {\n",
       "        text-align: right;\n",
       "    }\n",
       "</style>\n",
       "<table border=\"1\" class=\"dataframe\">\n",
       "  <thead>\n",
       "    <tr style=\"text-align: right;\">\n",
       "      <th></th>\n",
       "      <th>id</th>\n",
       "      <th>iso_3166_1_countries</th>\n",
       "      <th>name_countries</th>\n",
       "    </tr>\n",
       "  </thead>\n",
       "  <tbody>\n",
       "    <tr>\n",
       "      <th>0</th>\n",
       "      <td>862</td>\n",
       "      <td>US</td>\n",
       "      <td>United States of America</td>\n",
       "    </tr>\n",
       "    <tr>\n",
       "      <th>1</th>\n",
       "      <td>8844</td>\n",
       "      <td>US</td>\n",
       "      <td>United States of America</td>\n",
       "    </tr>\n",
       "  </tbody>\n",
       "</table>\n",
       "</div>"
      ],
      "text/plain": [
       "     id iso_3166_1_countries            name_countries\n",
       "0   862                   US  United States of America\n",
       "1  8844                   US  United States of America"
      ]
     },
     "execution_count": 389,
     "metadata": {},
     "output_type": "execute_result"
    }
   ],
   "source": [
    "# Creamos listas vacías para los valores\n",
    "id_original= []\n",
    "iso_countries= []\n",
    "name_countries= []\n",
    "\n",
    "for index, valor in enumerate( NewData['iso_3166_1_countries']):\n",
    "    if valor != None:\n",
    "      for index2, valor2 in enumerate(valor):\n",
    "         iso_countries.append(valor2)\n",
    "         name_countries.append(NewData['name_countries'][index][index2])\n",
    "         id_original.append(NewData['id'][index])  # Agregamos id peliculas\n",
    "\n",
    "# Creamos un nuevo DataFrame\n",
    "# Agregamos las columnas al nuevo DataFrame\n",
    "countries= pd.DataFrame()\n",
    "countries['id']= id_original\n",
    "countries['iso_3166_1_countries'] = iso_countries\n",
    "countries['name_countries'] = name_countries\n",
    "\n",
    "countries.head(2)"
   ]
  },
  {
   "cell_type": "code",
   "execution_count": 390,
   "metadata": {},
   "outputs": [
    {
     "data": {
      "text/plain": [
       "US    21150\n",
       "GB     4091\n",
       "FR     3936\n",
       "DE     2250\n",
       "IT     2168\n",
       "      ...  \n",
       "MG        1\n",
       "SO        1\n",
       "KW        1\n",
       "MQ        1\n",
       "GN        1\n",
       "Name: iso_3166_1_countries, Length: 161, dtype: int64"
      ]
     },
     "execution_count": 390,
     "metadata": {},
     "output_type": "execute_result"
    }
   ],
   "source": [
    "countries['iso_3166_1_countries'].value_counts()"
   ]
  },
  {
   "cell_type": "code",
   "execution_count": 391,
   "metadata": {},
   "outputs": [],
   "source": [
    "# Identifico las columnas que quiero limpiar\n",
    "columnas_limpiar = ['iso_3166_1_countries', 'name_countries']\n",
    "\n",
    "# Creo un nuevo DataFrame para almacenar los valores no repetidos\n",
    "df_countries = pd.DataFrame()\n",
    "\n",
    "# Iteramos sobre las columnas y obtenemos los valores no repetidos\n",
    "for columna in columnas_limpiar:\n",
    "    valores_no_repetidos = countries[columna].unique()  # valores únicos \n",
    "# Agregamos los valores no repetidos al nuevo DataFrame\n",
    "    df_countries[columna] = valores_no_repetidos\n",
    "# Agregamos las columnas adicionales del DataFrame original al DataFrame limpio\n",
    "columnas_adicionales = ['id'] \n",
    "\n",
    "for columna in columnas_adicionales:\n",
    "    df_countries[columna] = companies[columna]\n",
    "# Guardamos el DataFrame limpio en un nuevo archivo CSV\n",
    "df_countries.to_csv('countries.csv', index=False)"
   ]
  },
  {
   "cell_type": "code",
   "execution_count": 392,
   "metadata": {},
   "outputs": [
    {
     "name": "stderr",
     "output_type": "stream",
     "text": [
      "C:\\Users\\jorge\\AppData\\Local\\Temp\\ipykernel_9808\\2601622794.py:1: SettingWithCopyWarning: \n",
      "A value is trying to be set on a copy of a slice from a DataFrame\n",
      "\n",
      "See the caveats in the documentation: https://pandas.pydata.org/pandas-docs/stable/user_guide/indexing.html#returning-a-view-versus-a-copy\n",
      "  NewData.drop('production_countries',axis=1, inplace=True)  ## elimino la columna de NewData\n"
     ]
    }
   ],
   "source": [
    "NewData.drop('production_countries',axis=1, inplace=True)  ## elimino la columna de NewData"
   ]
  },
  {
   "cell_type": "code",
   "execution_count": 393,
   "metadata": {},
   "outputs": [
    {
     "name": "stdout",
     "output_type": "stream",
     "text": [
      "Total de listas vacías: 3827\n"
     ]
    }
   ],
   "source": [
    "empty_count = 0  # Variable para contar las listas vacías  ### se encontraron valores reconocidos como float\n",
    "\n",
    "# Iterar sobre la columna y verificar listas vacías\n",
    "for index, lista in enumerate(NewData['spoken_languages']):\n",
    "        otherList = eval(lista) if lista else \"[]\"  # Convertir a lista, considerando listas vacías\n",
    "        if len(otherList) == 0:  # Verificar si la lista está vacía\n",
    "           empty_count += 1  # Incrementar el contador de listas vacías\n",
    "\n",
    "# Imprimir el total de listas vacías encontradas\n",
    "print(\"Total de listas vacías:\", empty_count)"
   ]
  },
  {
   "cell_type": "code",
   "execution_count": 394,
   "metadata": {},
   "outputs": [],
   "source": [
    "# Creamos listas vacías para almacenar los valores de id y name\n",
    "name_values = []\n",
    "iso_values =[]\n",
    "\n",
    "\n",
    "# Recorremos el DataFrame original\n",
    "for lista in NewData['spoken_languages']:\n",
    "        otherList = eval(lista) if lista else []  # Convierto a lista, considerando lista vacía\n",
    "    \n",
    "    # Verificamos si la lista está vacía\n",
    "        if len(otherList) == 0:\n",
    "            name_val = None\n",
    "            iso_val = None\n",
    "        else:\n",
    "        # Obtengo todos los valores de id y name en la lista\n",
    "            name_vals = [item.get('name') for item in otherList]\n",
    "            iso_vals = [item.get('iso_639_1') for item in otherList]\n",
    "            listIndex = []\n",
    "            for index, value in enumerate(name_vals):\n",
    "                if value == '':\n",
    "                    listIndex.append(index)        #languages sin el nombre\n",
    "                if value == \"??????\":\n",
    "                     name_vals[index] = \"Кыргыз тили\"\n",
    "                if value == \"?????\":\n",
    "                     name_vals[index] = \"ಕನ್ನಡ\"\n",
    "            listIndex.sort(reverse=True)\n",
    "            for listIn in listIndex:\n",
    "                del name_vals[listIn]\n",
    "                del iso_vals[listIn]\n",
    "        #  valores \n",
    "            name_val = name_vals\n",
    "            iso_val = iso_vals\n",
    "            \n",
    "    \n",
    "    # Agregamos los valores a las listas correspondientes\n",
    "        name_values.append(name_val)\n",
    "        iso_values.append(iso_val)\n",
    "\n",
    "#agregamos los valores desanidados al dataframe original\n",
    "\n",
    "NewData.insert(11,'iso_639_1_languages',iso_values)\n",
    "NewData.insert(12,'name_languages' ,name_values)"
   ]
  },
  {
   "cell_type": "code",
   "execution_count": 395,
   "metadata": {},
   "outputs": [
    {
     "data": {
      "text/html": [
       "<div>\n",
       "<style scoped>\n",
       "    .dataframe tbody tr th:only-of-type {\n",
       "        vertical-align: middle;\n",
       "    }\n",
       "\n",
       "    .dataframe tbody tr th {\n",
       "        vertical-align: top;\n",
       "    }\n",
       "\n",
       "    .dataframe thead th {\n",
       "        text-align: right;\n",
       "    }\n",
       "</style>\n",
       "<table border=\"1\" class=\"dataframe\">\n",
       "  <thead>\n",
       "    <tr style=\"text-align: right;\">\n",
       "      <th></th>\n",
       "      <th>id</th>\n",
       "      <th>iso_639_1_languages</th>\n",
       "      <th>name_languages</th>\n",
       "    </tr>\n",
       "  </thead>\n",
       "  <tbody>\n",
       "    <tr>\n",
       "      <th>0</th>\n",
       "      <td>862</td>\n",
       "      <td>en</td>\n",
       "      <td>English</td>\n",
       "    </tr>\n",
       "    <tr>\n",
       "      <th>1</th>\n",
       "      <td>8844</td>\n",
       "      <td>en</td>\n",
       "      <td>English</td>\n",
       "    </tr>\n",
       "  </tbody>\n",
       "</table>\n",
       "</div>"
      ],
      "text/plain": [
       "     id iso_639_1_languages name_languages\n",
       "0   862                  en        English\n",
       "1  8844                  en        English"
      ]
     },
     "execution_count": 395,
     "metadata": {},
     "output_type": "execute_result"
    }
   ],
   "source": [
    "# Creamos listas vacías para los valores\n",
    "id_original= []\n",
    "iso_languages= []\n",
    "name_languages= []\n",
    "\n",
    "for index, valor in enumerate( NewData['iso_639_1_languages']): \n",
    "    if valor != None:\n",
    "      for index2, valor2 in enumerate(valor):\n",
    "         iso_languages.append(valor2)\n",
    "         name_languages.append(NewData['name_languages'][index][index2])\n",
    "         id_original.append(NewData['id'][index])  # Agregar ID original\n",
    "         \n",
    "\n",
    "# Creamos un nuevo DataFrame\n",
    "# Agregamos las columnas al nuevo DataFrame\n",
    "languages= pd.DataFrame()\n",
    "languages['id'] = id_original\n",
    "languages['iso_639_1_languages'] = iso_languages\n",
    "languages['name_languages'] = name_languages\n",
    "\n",
    "languages.head(2)"
   ]
  },
  {
   "cell_type": "code",
   "execution_count": 396,
   "metadata": {},
   "outputs": [
    {
     "data": {
      "text/plain": [
       "en    28740\n",
       "fr     4195\n",
       "de     2624\n",
       "es     2413\n",
       "it     2367\n",
       "      ...  \n",
       "mt        3\n",
       "ff        2\n",
       "be        2\n",
       "uz        2\n",
       "ha        1\n",
       "Name: iso_639_1_languages, Length: 74, dtype: int64"
      ]
     },
     "execution_count": 396,
     "metadata": {},
     "output_type": "execute_result"
    }
   ],
   "source": [
    "languages['iso_639_1_languages'].value_counts()"
   ]
  },
  {
   "cell_type": "code",
   "execution_count": 397,
   "metadata": {},
   "outputs": [],
   "source": [
    "# Identifico las columnas que quiero limpiar\n",
    "columnas_limpiar = ['iso_639_1_languages','name_languages']\n",
    "\n",
    "# Creo un nuevo DataFrame para almacenar los valores no repetidos\n",
    "df_languages = pd.DataFrame()\n",
    "\n",
    "# Iteramos sobre las columnas y obtenemos los valores no repetidos\n",
    "for columna in columnas_limpiar:\n",
    "    valores_no_repetidos = languages[columna].unique()  ### valores únicos \n",
    "# Agregamos los valores no repetidos al nuevo DataFrame\n",
    "    df_languages[columna] = valores_no_repetidos\n",
    "# Agregamos las columnas adicionales del DataFrame original al DataFrame limpio\n",
    "columnas_adicionales = ['id']  \n",
    "\n",
    "for columna in columnas_adicionales:\n",
    "    df_languages[columna] = languages[columna]\n",
    "\n",
    "# Guardamos el DataFrame limpio en un nuevo archivo CSV\n",
    "df_languages.to_csv('languages.csv', index=False)"
   ]
  },
  {
   "cell_type": "code",
   "execution_count": 398,
   "metadata": {},
   "outputs": [
    {
     "name": "stderr",
     "output_type": "stream",
     "text": [
      "C:\\Users\\jorge\\AppData\\Local\\Temp\\ipykernel_9808\\3271976408.py:1: SettingWithCopyWarning: \n",
      "A value is trying to be set on a copy of a slice from a DataFrame\n",
      "\n",
      "See the caveats in the documentation: https://pandas.pydata.org/pandas-docs/stable/user_guide/indexing.html#returning-a-view-versus-a-copy\n",
      "  NewData.drop('spoken_languages',axis=1, inplace=True)  # elimino la columna del dataframe NewData\n"
     ]
    }
   ],
   "source": [
    "NewData.drop('spoken_languages',axis=1, inplace=True)  # elimino la columna del dataframe NewData"
   ]
  },
  {
   "attachments": {},
   "cell_type": "markdown",
   "metadata": {},
   "source": [
    "#### rellenar columna  revenue, budget por el número 0."
   ]
  },
  {
   "cell_type": "code",
   "execution_count": 399,
   "metadata": {},
   "outputs": [
    {
     "name": "stderr",
     "output_type": "stream",
     "text": [
      "C:\\Users\\jorge\\AppData\\Local\\Temp\\ipykernel_9808\\1872805958.py:1: SettingWithCopyWarning: \n",
      "A value is trying to be set on a copy of a slice from a DataFrame\n",
      "\n",
      "See the caveats in the documentation: https://pandas.pydata.org/pandas-docs/stable/user_guide/indexing.html#returning-a-view-versus-a-copy\n",
      "  NewData['revenue'].fillna(0, inplace=True)\n",
      "C:\\Users\\jorge\\AppData\\Local\\Temp\\ipykernel_9808\\1872805958.py:2: SettingWithCopyWarning: \n",
      "A value is trying to be set on a copy of a slice from a DataFrame\n",
      "\n",
      "See the caveats in the documentation: https://pandas.pydata.org/pandas-docs/stable/user_guide/indexing.html#returning-a-view-versus-a-copy\n",
      "  NewData['budget'].fillna(0, inplace=True)  ### Los campos nulos son rellenados con ceros.\n"
     ]
    }
   ],
   "source": [
    "NewData['revenue'].fillna(0, inplace=True)\n",
    "NewData['budget'].fillna(0, inplace=True)  #Los campos nulos son rellenados con ceros.\n",
    "                "
   ]
  },
  {
   "cell_type": "code",
   "execution_count": 400,
   "metadata": {},
   "outputs": [
    {
     "name": "stderr",
     "output_type": "stream",
     "text": [
      "C:\\Users\\jorge\\AppData\\Local\\Temp\\ipykernel_9808\\1461612893.py:1: SettingWithCopyWarning: \n",
      "A value is trying to be set on a copy of a slice from a DataFrame.\n",
      "Try using .loc[row_indexer,col_indexer] = value instead\n",
      "\n",
      "See the caveats in the documentation: https://pandas.pydata.org/pandas-docs/stable/user_guide/indexing.html#returning-a-view-versus-a-copy\n",
      "  NewData['budget']= NewData['budget'].astype(float).round(2) ## convertimos los valores de la columna budget en float\n"
     ]
    }
   ],
   "source": [
    "NewData['budget']= NewData['budget'].astype(float).round(2) # convertimos los valores de la columna budget en float"
   ]
  },
  {
   "attachments": {},
   "cell_type": "markdown",
   "metadata": {},
   "source": [
    "Los valores nulos del campo release date deben eliminarse."
   ]
  },
  {
   "cell_type": "code",
   "execution_count": 401,
   "metadata": {},
   "outputs": [
    {
     "name": "stdout",
     "output_type": "stream",
     "text": [
      "Número de valores 'None' en la columna: 84\n"
     ]
    }
   ],
   "source": [
    "#contar los valores 'None' en la columna ...\n",
    "count_none = NewData['release_date'].isnull().sum()\n",
    "\n",
    "print(\"Número de valores 'None' en la columna:\", count_none)"
   ]
  },
  {
   "cell_type": "code",
   "execution_count": 402,
   "metadata": {},
   "outputs": [
    {
     "name": "stderr",
     "output_type": "stream",
     "text": [
      "C:\\Users\\jorge\\AppData\\Local\\Temp\\ipykernel_9808\\990254014.py:3: SettingWithCopyWarning: \n",
      "A value is trying to be set on a copy of a slice from a DataFrame\n",
      "\n",
      "See the caveats in the documentation: https://pandas.pydata.org/pandas-docs/stable/user_guide/indexing.html#returning-a-view-versus-a-copy\n",
      "  NewData.drop(NewData[(NewData['release_date'].isnull()) | (NewData['release_date'] == 'nan')].index, inplace=True)\n"
     ]
    }
   ],
   "source": [
    "#Devolvemos una expresion booleana si es nulo es True y si se cumple la otra condicion en donde los valores son cadena 'nan', \n",
    "# drop elimina las filas teniendo en cuenta el indice como argumento.Inplace true por que estamos modificando el dataframe original.\n",
    "NewData.drop(NewData[(NewData['release_date'].isnull()) | (NewData['release_date'] == 'nan')].index, inplace=True)\n"
   ]
  },
  {
   "attachments": {},
   "cell_type": "markdown",
   "metadata": {},
   "source": [
    "De haber fechas, deberán tener el formato AAAA-mm-dd, además deberán crear la columna release_year donde extraerán el año de la fecha de estreno."
   ]
  },
  {
   "cell_type": "code",
   "execution_count": 403,
   "metadata": {},
   "outputs": [
    {
     "name": "stderr",
     "output_type": "stream",
     "text": [
      "C:\\Users\\jorge\\AppData\\Local\\Temp\\ipykernel_9808\\3508229484.py:1: SettingWithCopyWarning: \n",
      "A value is trying to be set on a copy of a slice from a DataFrame.\n",
      "Try using .loc[row_indexer,col_indexer] = value instead\n",
      "\n",
      "See the caveats in the documentation: https://pandas.pydata.org/pandas-docs/stable/user_guide/indexing.html#returning-a-view-versus-a-copy\n",
      "  NewData['release_date']=pd.to_datetime(NewData['release_date'], format=\"%Y-%m-%d\", errors='ignore')\n"
     ]
    }
   ],
   "source": [
    "NewData['release_date']=pd.to_datetime(NewData['release_date'], format=\"%Y-%m-%d\", errors='ignore')\n"
   ]
  },
  {
   "attachments": {},
   "cell_type": "markdown",
   "metadata": {},
   "source": [
    "Creo la columna release_year donde extraigo  el año de la fecha de estreno"
   ]
  },
  {
   "cell_type": "code",
   "execution_count": 404,
   "metadata": {},
   "outputs": [
    {
     "name": "stderr",
     "output_type": "stream",
     "text": [
      "C:\\Users\\jorge\\AppData\\Local\\Temp\\ipykernel_9808\\4032414168.py:1: SettingWithCopyWarning: \n",
      "A value is trying to be set on a copy of a slice from a DataFrame.\n",
      "Try using .loc[row_indexer,col_indexer] = value instead\n",
      "\n",
      "See the caveats in the documentation: https://pandas.pydata.org/pandas-docs/stable/user_guide/indexing.html#returning-a-view-versus-a-copy\n",
      "  NewData['release_year']=NewData['release_date'].dt.year\n"
     ]
    },
    {
     "data": {
      "text/plain": [
       "0        1995\n",
       "1        1995\n",
       "2        1995\n",
       "3        1995\n",
       "4        1995\n",
       "         ... \n",
       "45441    1991\n",
       "45443    2011\n",
       "45444    2003\n",
       "45445    1917\n",
       "45446    2017\n",
       "Name: release_year, Length: 45363, dtype: int64"
      ]
     },
     "execution_count": 404,
     "metadata": {},
     "output_type": "execute_result"
    }
   ],
   "source": [
    "NewData['release_year']=NewData['release_date'].dt.year\n",
    "\n",
    "NewData['release_year']"
   ]
  },
  {
   "attachments": {},
   "cell_type": "markdown",
   "metadata": {},
   "source": [
    "Creo la columna con el retorno de inversión, llamada return con los campos revenue y budget, dividiendo estas dos últimas revenue / budget, cuando no hay datos se deberá tomar el valor 0."
   ]
  },
  {
   "cell_type": "code",
   "execution_count": 405,
   "metadata": {},
   "outputs": [
    {
     "name": "stderr",
     "output_type": "stream",
     "text": [
      "C:\\Users\\jorge\\AppData\\Local\\Temp\\ipykernel_9808\\2870783009.py:3: SettingWithCopyWarning: \n",
      "A value is trying to be set on a copy of a slice from a DataFrame.\n",
      "Try using .loc[row_indexer,col_indexer] = value instead\n",
      "\n",
      "See the caveats in the documentation: https://pandas.pydata.org/pandas-docs/stable/user_guide/indexing.html#returning-a-view-versus-a-copy\n",
      "  NewData['return'] = NewData['revenue'] / NewData['budget']\n",
      "C:\\Users\\jorge\\AppData\\Local\\Temp\\ipykernel_9808\\2870783009.py:4: SettingWithCopyWarning: \n",
      "A value is trying to be set on a copy of a slice from a DataFrame.\n",
      "Try using .loc[row_indexer,col_indexer] = value instead\n",
      "\n",
      "See the caveats in the documentation: https://pandas.pydata.org/pandas-docs/stable/user_guide/indexing.html#returning-a-view-versus-a-copy\n",
      "  NewData['return'] = NewData['return'].mask(~mask, 0)\n",
      "C:\\Users\\jorge\\AppData\\Local\\Temp\\ipykernel_9808\\2870783009.py:5: SettingWithCopyWarning: \n",
      "A value is trying to be set on a copy of a slice from a DataFrame.\n",
      "Try using .loc[row_indexer,col_indexer] = value instead\n",
      "\n",
      "See the caveats in the documentation: https://pandas.pydata.org/pandas-docs/stable/user_guide/indexing.html#returning-a-view-versus-a-copy\n",
      "  NewData['return'] = NewData['return'].round(2)  # Redondear a dos decimales\n"
     ]
    }
   ],
   "source": [
    "# Creamos una nueva columna 'return' con el cálculo del retorno de inversión\n",
    "mask = (pd.notnull(NewData['revenue'])) & ((pd.notnull(NewData['budget'])) & (NewData['budget'] != 0))\n",
    "NewData['return'] = NewData['revenue'] / NewData['budget']\n",
    "NewData['return'] = NewData['return'].mask(~mask, 0)\n",
    "NewData['return'] = NewData['return'].round(2)  # Redondear a dos decimales"
   ]
  },
  {
   "attachments": {},
   "cell_type": "markdown",
   "metadata": {},
   "source": [
    "Eliminar columnas."
   ]
  },
  {
   "cell_type": "code",
   "execution_count": 406,
   "metadata": {},
   "outputs": [],
   "source": [
    "columnas = ['video', 'imdb_id', 'adult', 'original_title', 'poster_path', 'homepage']\n",
    "NewData= NewData.drop(columnas, axis=1)"
   ]
  },
  {
   "cell_type": "code",
   "execution_count": 407,
   "metadata": {},
   "outputs": [],
   "source": [
    "columnas = ['poster_path_belongs_to_collection','backdrop_path_belongs_to_collection',]\n",
    "NewData= NewData.drop(columnas, axis=1)"
   ]
  },
  {
   "attachments": {},
   "cell_type": "markdown",
   "metadata": {},
   "source": [
    "Creación del dataframe limpio\n"
   ]
  },
  {
   "cell_type": "code",
   "execution_count": 408,
   "metadata": {},
   "outputs": [],
   "source": [
    "NewData.to_csv('DataLimpia.csv', index=False)"
   ]
  },
  {
   "cell_type": "code",
   "execution_count": 409,
   "metadata": {},
   "outputs": [
    {
     "data": {
      "text/html": [
       "<div>\n",
       "<style scoped>\n",
       "    .dataframe tbody tr th:only-of-type {\n",
       "        vertical-align: middle;\n",
       "    }\n",
       "\n",
       "    .dataframe tbody tr th {\n",
       "        vertical-align: top;\n",
       "    }\n",
       "\n",
       "    .dataframe thead th {\n",
       "        text-align: right;\n",
       "    }\n",
       "</style>\n",
       "<table border=\"1\" class=\"dataframe\">\n",
       "  <thead>\n",
       "    <tr style=\"text-align: right;\">\n",
       "      <th></th>\n",
       "      <th>cast</th>\n",
       "      <th>crew</th>\n",
       "      <th>id</th>\n",
       "    </tr>\n",
       "  </thead>\n",
       "  <tbody>\n",
       "    <tr>\n",
       "      <th>0</th>\n",
       "      <td>[{'cast_id': 14, 'character': 'Woody (voice)',...</td>\n",
       "      <td>[{'credit_id': '52fe4284c3a36847f8024f49', 'de...</td>\n",
       "      <td>862</td>\n",
       "    </tr>\n",
       "    <tr>\n",
       "      <th>1</th>\n",
       "      <td>[{'cast_id': 1, 'character': 'Alan Parrish', '...</td>\n",
       "      <td>[{'credit_id': '52fe44bfc3a36847f80a7cd1', 'de...</td>\n",
       "      <td>8844</td>\n",
       "    </tr>\n",
       "    <tr>\n",
       "      <th>2</th>\n",
       "      <td>[{'cast_id': 2, 'character': 'Max Goldman', 'c...</td>\n",
       "      <td>[{'credit_id': '52fe466a9251416c75077a89', 'de...</td>\n",
       "      <td>15602</td>\n",
       "    </tr>\n",
       "    <tr>\n",
       "      <th>3</th>\n",
       "      <td>[{'cast_id': 1, 'character': \"Savannah 'Vannah...</td>\n",
       "      <td>[{'credit_id': '52fe44779251416c91011acb', 'de...</td>\n",
       "      <td>31357</td>\n",
       "    </tr>\n",
       "    <tr>\n",
       "      <th>4</th>\n",
       "      <td>[{'cast_id': 1, 'character': 'George Banks', '...</td>\n",
       "      <td>[{'credit_id': '52fe44959251416c75039ed7', 'de...</td>\n",
       "      <td>11862</td>\n",
       "    </tr>\n",
       "    <tr>\n",
       "      <th>...</th>\n",
       "      <td>...</td>\n",
       "      <td>...</td>\n",
       "      <td>...</td>\n",
       "    </tr>\n",
       "    <tr>\n",
       "      <th>45471</th>\n",
       "      <td>[{'cast_id': 0, 'character': '', 'credit_id': ...</td>\n",
       "      <td>[{'credit_id': '5894a97d925141426c00818c', 'de...</td>\n",
       "      <td>439050</td>\n",
       "    </tr>\n",
       "    <tr>\n",
       "      <th>45472</th>\n",
       "      <td>[{'cast_id': 1002, 'character': 'Sister Angela...</td>\n",
       "      <td>[{'credit_id': '52fe4af1c3a36847f81e9b15', 'de...</td>\n",
       "      <td>111109</td>\n",
       "    </tr>\n",
       "    <tr>\n",
       "      <th>45473</th>\n",
       "      <td>[{'cast_id': 6, 'character': 'Emily Shaw', 'cr...</td>\n",
       "      <td>[{'credit_id': '52fe4776c3a368484e0c8387', 'de...</td>\n",
       "      <td>67758</td>\n",
       "    </tr>\n",
       "    <tr>\n",
       "      <th>45474</th>\n",
       "      <td>[{'cast_id': 2, 'character': '', 'credit_id': ...</td>\n",
       "      <td>[{'credit_id': '533bccebc3a36844cf0011a7', 'de...</td>\n",
       "      <td>227506</td>\n",
       "    </tr>\n",
       "    <tr>\n",
       "      <th>45475</th>\n",
       "      <td>[]</td>\n",
       "      <td>[{'credit_id': '593e676c92514105b702e68e', 'de...</td>\n",
       "      <td>461257</td>\n",
       "    </tr>\n",
       "  </tbody>\n",
       "</table>\n",
       "<p>45476 rows × 3 columns</p>\n",
       "</div>"
      ],
      "text/plain": [
       "                                                    cast  \\\n",
       "0      [{'cast_id': 14, 'character': 'Woody (voice)',...   \n",
       "1      [{'cast_id': 1, 'character': 'Alan Parrish', '...   \n",
       "2      [{'cast_id': 2, 'character': 'Max Goldman', 'c...   \n",
       "3      [{'cast_id': 1, 'character': \"Savannah 'Vannah...   \n",
       "4      [{'cast_id': 1, 'character': 'George Banks', '...   \n",
       "...                                                  ...   \n",
       "45471  [{'cast_id': 0, 'character': '', 'credit_id': ...   \n",
       "45472  [{'cast_id': 1002, 'character': 'Sister Angela...   \n",
       "45473  [{'cast_id': 6, 'character': 'Emily Shaw', 'cr...   \n",
       "45474  [{'cast_id': 2, 'character': '', 'credit_id': ...   \n",
       "45475                                                 []   \n",
       "\n",
       "                                                    crew      id  \n",
       "0      [{'credit_id': '52fe4284c3a36847f8024f49', 'de...     862  \n",
       "1      [{'credit_id': '52fe44bfc3a36847f80a7cd1', 'de...    8844  \n",
       "2      [{'credit_id': '52fe466a9251416c75077a89', 'de...   15602  \n",
       "3      [{'credit_id': '52fe44779251416c91011acb', 'de...   31357  \n",
       "4      [{'credit_id': '52fe44959251416c75039ed7', 'de...   11862  \n",
       "...                                                  ...     ...  \n",
       "45471  [{'credit_id': '5894a97d925141426c00818c', 'de...  439050  \n",
       "45472  [{'credit_id': '52fe4af1c3a36847f81e9b15', 'de...  111109  \n",
       "45473  [{'credit_id': '52fe4776c3a368484e0c8387', 'de...   67758  \n",
       "45474  [{'credit_id': '533bccebc3a36844cf0011a7', 'de...  227506  \n",
       "45475  [{'credit_id': '593e676c92514105b702e68e', 'de...  461257  \n",
       "\n",
       "[45476 rows x 3 columns]"
      ]
     },
     "execution_count": 409,
     "metadata": {},
     "output_type": "execute_result"
    }
   ],
   "source": [
    "creditos= pd.read_csv('C:/Users/jorge/OneDrive/Escritorio/PI_ML_OPS/Dataset-20230613T223047Z-001/Dataset/credits.csv')\n",
    "\n",
    "creditos"
   ]
  },
  {
   "attachments": {},
   "cell_type": "markdown",
   "metadata": {},
   "source": [
    "Datos desanidados de la columna cast del dataframe original"
   ]
  },
  {
   "cell_type": "code",
   "execution_count": 410,
   "metadata": {},
   "outputs": [
    {
     "data": {
      "text/html": [
       "<div>\n",
       "<style scoped>\n",
       "    .dataframe tbody tr th:only-of-type {\n",
       "        vertical-align: middle;\n",
       "    }\n",
       "\n",
       "    .dataframe tbody tr th {\n",
       "        vertical-align: top;\n",
       "    }\n",
       "\n",
       "    .dataframe thead th {\n",
       "        text-align: right;\n",
       "    }\n",
       "</style>\n",
       "<table border=\"1\" class=\"dataframe\">\n",
       "  <thead>\n",
       "    <tr style=\"text-align: right;\">\n",
       "      <th></th>\n",
       "      <th>cast</th>\n",
       "      <th>crew</th>\n",
       "      <th>id</th>\n",
       "      <th>cast_id</th>\n",
       "      <th>cast_character</th>\n",
       "      <th>cast_credit_id</th>\n",
       "      <th>cast_gender</th>\n",
       "      <th>id_actors</th>\n",
       "      <th>cast_name</th>\n",
       "      <th>cast_order</th>\n",
       "      <th>cast_profile_path</th>\n",
       "    </tr>\n",
       "  </thead>\n",
       "  <tbody>\n",
       "    <tr>\n",
       "      <th>0</th>\n",
       "      <td>[{'cast_id': 14, 'character': 'Woody (voice)',...</td>\n",
       "      <td>[{'credit_id': '52fe4284c3a36847f8024f49', 'de...</td>\n",
       "      <td>862</td>\n",
       "      <td>[14, 15, 16, 17, 18, 19, 20, 26, 22, 23, 24, 2...</td>\n",
       "      <td>[Woody (voice), Buzz Lightyear (voice), Mr. Po...</td>\n",
       "      <td>[52fe4284c3a36847f8024f95, 52fe4284c3a36847f80...</td>\n",
       "      <td>[2, 2, 2, 2, 2, 2, 1, 0, 2, 1, 2, 1, 2]</td>\n",
       "      <td>[31, 12898, 7167, 12899, 12900, 7907, 8873, 11...</td>\n",
       "      <td>[Tom Hanks, Tim Allen, Don Rickles, Jim Varney...</td>\n",
       "      <td>[0, 1, 2, 3, 4, 5, 6, 7, 8, 9, 10, 11, 12]</td>\n",
       "      <td>[/pQFoyx7rp09CJTAb932F2g8Nlho.jpg, /uX2xVf6pMm...</td>\n",
       "    </tr>\n",
       "    <tr>\n",
       "      <th>1</th>\n",
       "      <td>[{'cast_id': 1, 'character': 'Alan Parrish', '...</td>\n",
       "      <td>[{'credit_id': '52fe44bfc3a36847f80a7cd1', 'de...</td>\n",
       "      <td>8844</td>\n",
       "      <td>[1, 8, 2, 24, 10, 25, 26, 11, 14, 13, 31, 12, ...</td>\n",
       "      <td>[Alan Parrish, Samuel Alan Parrish / Van Pelt,...</td>\n",
       "      <td>[52fe44bfc3a36847f80a7c73, 52fe44bfc3a36847f80...</td>\n",
       "      <td>[2, 2, 1, 0, 1, 1, 2, 1, 0, 1, 2, 1, 2, 0, 0, ...</td>\n",
       "      <td>[2157, 8537, 205, 145151, 5149, 10739, 58563, ...</td>\n",
       "      <td>[Robin Williams, Jonathan Hyde, Kirsten Dunst,...</td>\n",
       "      <td>[0, 1, 2, 3, 4, 5, 6, 7, 8, 9, 10, 11, 12, 13,...</td>\n",
       "      <td>[/sojtJyIV3lkUeThD7A2oHNm8183.jpg, /7il5D76vx6...</td>\n",
       "    </tr>\n",
       "  </tbody>\n",
       "</table>\n",
       "</div>"
      ],
      "text/plain": [
       "                                                cast  \\\n",
       "0  [{'cast_id': 14, 'character': 'Woody (voice)',...   \n",
       "1  [{'cast_id': 1, 'character': 'Alan Parrish', '...   \n",
       "\n",
       "                                                crew    id  \\\n",
       "0  [{'credit_id': '52fe4284c3a36847f8024f49', 'de...   862   \n",
       "1  [{'credit_id': '52fe44bfc3a36847f80a7cd1', 'de...  8844   \n",
       "\n",
       "                                             cast_id  \\\n",
       "0  [14, 15, 16, 17, 18, 19, 20, 26, 22, 23, 24, 2...   \n",
       "1  [1, 8, 2, 24, 10, 25, 26, 11, 14, 13, 31, 12, ...   \n",
       "\n",
       "                                      cast_character  \\\n",
       "0  [Woody (voice), Buzz Lightyear (voice), Mr. Po...   \n",
       "1  [Alan Parrish, Samuel Alan Parrish / Van Pelt,...   \n",
       "\n",
       "                                      cast_credit_id  \\\n",
       "0  [52fe4284c3a36847f8024f95, 52fe4284c3a36847f80...   \n",
       "1  [52fe44bfc3a36847f80a7c73, 52fe44bfc3a36847f80...   \n",
       "\n",
       "                                         cast_gender  \\\n",
       "0            [2, 2, 2, 2, 2, 2, 1, 0, 2, 1, 2, 1, 2]   \n",
       "1  [2, 2, 1, 0, 1, 1, 2, 1, 0, 1, 2, 1, 2, 0, 0, ...   \n",
       "\n",
       "                                           id_actors  \\\n",
       "0  [31, 12898, 7167, 12899, 12900, 7907, 8873, 11...   \n",
       "1  [2157, 8537, 205, 145151, 5149, 10739, 58563, ...   \n",
       "\n",
       "                                           cast_name  \\\n",
       "0  [Tom Hanks, Tim Allen, Don Rickles, Jim Varney...   \n",
       "1  [Robin Williams, Jonathan Hyde, Kirsten Dunst,...   \n",
       "\n",
       "                                          cast_order  \\\n",
       "0         [0, 1, 2, 3, 4, 5, 6, 7, 8, 9, 10, 11, 12]   \n",
       "1  [0, 1, 2, 3, 4, 5, 6, 7, 8, 9, 10, 11, 12, 13,...   \n",
       "\n",
       "                                   cast_profile_path  \n",
       "0  [/pQFoyx7rp09CJTAb932F2g8Nlho.jpg, /uX2xVf6pMm...  \n",
       "1  [/sojtJyIV3lkUeThD7A2oHNm8183.jpg, /7il5D76vx6...  "
      ]
     },
     "execution_count": 410,
     "metadata": {},
     "output_type": "execute_result"
    }
   ],
   "source": [
    "# Creo listas vacías para almacenar los valores\n",
    "cast_id_list = []\n",
    "cast_character_list = []\n",
    "cast_credit_id_list = []\n",
    "cast_gender_list = []\n",
    "id_actors= []\n",
    "cast_name_list = []\n",
    "cast_order_list = []\n",
    "cast_profile_path_list = []\n",
    "\n",
    "# Recorremos el DataFrame original\n",
    "for lista in creditos['cast']:\n",
    "    otherList = eval(lista)  # Convierto a lista\n",
    "    \n",
    "    # Verificar si la lista está vacía\n",
    "    if len(otherList) == 0:\n",
    "        # Si la lista está vacía, asignar valores nulos a las listas correspondientes\n",
    "        cast_id_val = None\n",
    "        cast_character_val = None\n",
    "        cast_credit_id_val = None\n",
    "        id_actor=None\n",
    "        cast_gender_val = None\n",
    "        cast_name_val = None\n",
    "        cast_order_val = None\n",
    "        cast_profile_path_val = None\n",
    "    else:\n",
    "        # Obtener los valores de cada campo en la lista\n",
    "        cast_id_vals = [item.get('cast_id') for item in otherList]\n",
    "        cast_character_vals = [item.get('character') for item in otherList]\n",
    "        cast_credit_id_vals = [item.get('credit_id') for item in otherList]\n",
    "        cast_gender_vals = [item.get('gender') for item in otherList]\n",
    "        id_vals = [int(item.get('id')) for item in otherList if item is not None]\n",
    "        cast_name_vals = [item.get('name') for item in otherList]\n",
    "        cast_order_vals = [item.get('order') for item in otherList]\n",
    "        cast_profile_path_vals = [item.get('profile_path') for item in otherList]\n",
    "\n",
    "        cast_id_val = cast_id_vals\n",
    "        cast_character_val = cast_character_vals\n",
    "        cast_credit_id_val = cast_credit_id_vals\n",
    "        cast_gender_val = cast_gender_vals\n",
    "        id_actor = id_vals\n",
    "        cast_name_val = cast_name_vals\n",
    "        cast_order_val = cast_order_vals\n",
    "        cast_profile_path_val = cast_profile_path_vals\n",
    "            \n",
    "    # Agregamos los valores a las listas correspondientes\n",
    "    cast_id_list.append(cast_id_val)\n",
    "    cast_character_list.append(cast_character_val)\n",
    "    cast_credit_id_list.append(cast_credit_id_val)\n",
    "    cast_gender_list.append(cast_gender_val)\n",
    "    id_actors.append(id_actor)\n",
    "    cast_name_list.append(cast_name_val)\n",
    "    cast_order_list.append(cast_order_val)\n",
    "    cast_profile_path_list.append(cast_profile_path_val)\n",
    "\n",
    "# Asignar los valores al DataFrame original\n",
    "creditos['cast_id'] = cast_id_list\n",
    "creditos['cast_character'] = cast_character_list\n",
    "creditos['cast_credit_id'] = cast_credit_id_list\n",
    "creditos['cast_gender'] = cast_gender_list\n",
    "creditos['id_actors'] = id_actors\n",
    "creditos['cast_name'] = cast_name_list\n",
    "creditos['cast_order'] = cast_order_list\n",
    "creditos['cast_profile_path'] = cast_profile_path_list\n",
    "\n",
    "# Mostrar el DataFrame resultante\n",
    "creditos.head(2)"
   ]
  },
  {
   "attachments": {},
   "cell_type": "markdown",
   "metadata": {},
   "source": [
    "CREACIÓN DE NUEVO DATA SET CAST"
   ]
  },
  {
   "cell_type": "code",
   "execution_count": 411,
   "metadata": {},
   "outputs": [],
   "source": [
    "# Creo listas vacías para almacenar los valores\n",
    "\n",
    "cast_id = []\n",
    "cast_character = []\n",
    "cast_credit_id = []\n",
    "cast_gender = []\n",
    "id_actors=[]\n",
    "cast_name = []\n",
    "cast_order = []\n",
    "cast_profile_path = []\n",
    "id= []\n",
    "\n",
    "# Recorremos el DataFrame original\n",
    "for index, lista in enumerate(creditos['cast']):\n",
    "    otherList = eval(lista)  # Convierto a lista\n",
    "    \n",
    "    # Verificar si la lista está vacía\n",
    "    if len(otherList) == 0:\n",
    "        # Si la lista está vacía, asignar valores nulos\n",
    "        id.append(creditos['id'][index])  # Agregar ID original\n",
    "        cast_id.append(None)\n",
    "        cast_character.append(None)\n",
    "        cast_credit_id.append(None)\n",
    "        cast_gender.append(None)\n",
    "        id_actors.append(None)\n",
    "        cast_name.append(None)\n",
    "        cast_order.append(None)\n",
    "        cast_profile_path.append(None)\n",
    "    else:\n",
    "        # Obtener los valores de cada campo en la lista\n",
    "        for item in otherList:\n",
    "            id.append(creditos['id'][index])  # Agregar ID original\n",
    "            cast_id.append(item.get('cast_id'))\n",
    "            cast_character.append(item.get('character'))\n",
    "            cast_credit_id.append(item.get('credit_id'))\n",
    "            cast_gender.append(item.get('gender'))\n",
    "            id_actors.append(int(item.get('id')))\n",
    "            cast_name.append(item.get('name'))\n",
    "            cast_order.append(item.get('order'))\n",
    "            cast_profile_path.append(item.get('profile_path'))\n",
    "\n",
    "# Crear un nuevo DataFrame con los valores extraídos\n",
    "new_data_cast = pd.DataFrame({\n",
    "    'id': id,\n",
    "    'cast_id': cast_id,\n",
    "    'cast_character': cast_character,\n",
    "    'cast_credit_id': cast_credit_id,\n",
    "    'cast_gender': cast_gender,\n",
    "    'id_actors':id_actors,\n",
    "    'cast_name': cast_name,\n",
    "    'cast_order': cast_order,\n",
    "    'cast_profile_path': cast_profile_path\n",
    "})\n",
    "\n"
   ]
  },
  {
   "cell_type": "code",
   "execution_count": 412,
   "metadata": {},
   "outputs": [],
   "source": [
    "creditos.drop('cast',axis=1, inplace=True)  ## elimino la columna cast de creditos"
   ]
  },
  {
   "cell_type": "code",
   "execution_count": 413,
   "metadata": {},
   "outputs": [
    {
     "data": {
      "text/plain": [
       "4.0       26777\n",
       "5.0       25655\n",
       "3.0       25594\n",
       "6.0       24006\n",
       "2.0       22846\n",
       "          ...  \n",
       "344.0         1\n",
       "1099.0        1\n",
       "1098.0        1\n",
       "1097.0        1\n",
       "438.0         1\n",
       "Name: cast_id, Length: 574, dtype: int64"
      ]
     },
     "execution_count": 413,
     "metadata": {},
     "output_type": "execute_result"
    }
   ],
   "source": [
    "new_data_cast['cast_id'].value_counts()"
   ]
  },
  {
   "cell_type": "code",
   "execution_count": 414,
   "metadata": {},
   "outputs": [],
   "source": [
    "# Identifico las columnas que quiero limpiar\n",
    "columnas_limpiar = ['cast_id']\n",
    "\n",
    "# Creo un nuevo DataFrame para almacenar los valores no repetidos\n",
    "df_cast = pd.DataFrame()\n",
    "\n",
    "# Iteramos sobre las columnas y obtenemos los valores no repetidos\n",
    "for columna in columnas_limpiar:\n",
    "    valores_no_repetidos = new_data_cast[columna].unique()\n",
    "# Agregamos los valores no repetidos al nuevo DataFrame\n",
    "    df_cast[columna] = valores_no_repetidos\n",
    "\n",
    "# Agregamos las columnas adicionales del DataFrame original al DataFrame limpio\n",
    "columnas_adicionales = ['id', 'cast_id','cast_credit_id','cast_gender','id_actors','cast_name','cast_order']\n",
    "\n",
    "\n",
    "for columna in columnas_adicionales:\n",
    "    df_cast[columna] = new_data_cast[columna]\n",
    "\n",
    "# Guardamos el DataFrame limpio en un nuevo archivo CSV\n",
    "df_cast.to_csv('cast.csv', index=False)"
   ]
  },
  {
   "attachments": {},
   "cell_type": "markdown",
   "metadata": {},
   "source": [
    "\n",
    "Desanidamos la columna crew"
   ]
  },
  {
   "cell_type": "code",
   "execution_count": 415,
   "metadata": {},
   "outputs": [
    {
     "data": {
      "text/html": [
       "<div>\n",
       "<style scoped>\n",
       "    .dataframe tbody tr th:only-of-type {\n",
       "        vertical-align: middle;\n",
       "    }\n",
       "\n",
       "    .dataframe tbody tr th {\n",
       "        vertical-align: top;\n",
       "    }\n",
       "\n",
       "    .dataframe thead th {\n",
       "        text-align: right;\n",
       "    }\n",
       "</style>\n",
       "<table border=\"1\" class=\"dataframe\">\n",
       "  <thead>\n",
       "    <tr style=\"text-align: right;\">\n",
       "      <th></th>\n",
       "      <th>crew</th>\n",
       "      <th>id</th>\n",
       "      <th>cast_id</th>\n",
       "      <th>cast_character</th>\n",
       "      <th>cast_credit_id</th>\n",
       "      <th>cast_gender</th>\n",
       "      <th>id_actors</th>\n",
       "      <th>cast_name</th>\n",
       "      <th>cast_order</th>\n",
       "      <th>cast_profile_path</th>\n",
       "      <th>id_director</th>\n",
       "      <th>credit_job</th>\n",
       "      <th>credit_name</th>\n",
       "    </tr>\n",
       "  </thead>\n",
       "  <tbody>\n",
       "    <tr>\n",
       "      <th>0</th>\n",
       "      <td>[{'credit_id': '52fe4284c3a36847f8024f49', 'de...</td>\n",
       "      <td>862</td>\n",
       "      <td>[14, 15, 16, 17, 18, 19, 20, 26, 22, 23, 24, 2...</td>\n",
       "      <td>[Woody (voice), Buzz Lightyear (voice), Mr. Po...</td>\n",
       "      <td>[52fe4284c3a36847f8024f95, 52fe4284c3a36847f80...</td>\n",
       "      <td>[2, 2, 2, 2, 2, 2, 1, 0, 2, 1, 2, 1, 2]</td>\n",
       "      <td>[31, 12898, 7167, 12899, 12900, 7907, 8873, 11...</td>\n",
       "      <td>[Tom Hanks, Tim Allen, Don Rickles, Jim Varney...</td>\n",
       "      <td>[0, 1, 2, 3, 4, 5, 6, 7, 8, 9, 10, 11, 12]</td>\n",
       "      <td>[/pQFoyx7rp09CJTAb932F2g8Nlho.jpg, /uX2xVf6pMm...</td>\n",
       "      <td>[7879, 12891, 7, 12892, 12893, 12894, 12895, 1...</td>\n",
       "      <td>[Director, Screenplay, Screenplay, Screenplay,...</td>\n",
       "      <td>[John Lasseter, Joss Whedon, Andrew Stanton, J...</td>\n",
       "    </tr>\n",
       "    <tr>\n",
       "      <th>1</th>\n",
       "      <td>[{'credit_id': '52fe44bfc3a36847f80a7cd1', 'de...</td>\n",
       "      <td>8844</td>\n",
       "      <td>[1, 8, 2, 24, 10, 25, 26, 11, 14, 13, 31, 12, ...</td>\n",
       "      <td>[Alan Parrish, Samuel Alan Parrish / Van Pelt,...</td>\n",
       "      <td>[52fe44bfc3a36847f80a7c73, 52fe44bfc3a36847f80...</td>\n",
       "      <td>[2, 2, 1, 0, 1, 1, 2, 1, 0, 1, 2, 1, 2, 0, 0, ...</td>\n",
       "      <td>[2157, 8537, 205, 145151, 5149, 10739, 58563, ...</td>\n",
       "      <td>[Robin Williams, Jonathan Hyde, Kirsten Dunst,...</td>\n",
       "      <td>[0, 1, 2, 3, 4, 5, 6, 7, 8, 9, 10, 11, 12, 13,...</td>\n",
       "      <td>[/sojtJyIV3lkUeThD7A2oHNm8183.jpg, /7il5D76vx6...</td>\n",
       "      <td>[511, 876, 1729, 4945, 4951, 4952, 8023, 9967,...</td>\n",
       "      <td>[Executive Producer, Screenplay, Original Musi...</td>\n",
       "      <td>[Larry J. Franco, Jonathan Hensleigh, James Ho...</td>\n",
       "    </tr>\n",
       "  </tbody>\n",
       "</table>\n",
       "</div>"
      ],
      "text/plain": [
       "                                                crew    id  \\\n",
       "0  [{'credit_id': '52fe4284c3a36847f8024f49', 'de...   862   \n",
       "1  [{'credit_id': '52fe44bfc3a36847f80a7cd1', 'de...  8844   \n",
       "\n",
       "                                             cast_id  \\\n",
       "0  [14, 15, 16, 17, 18, 19, 20, 26, 22, 23, 24, 2...   \n",
       "1  [1, 8, 2, 24, 10, 25, 26, 11, 14, 13, 31, 12, ...   \n",
       "\n",
       "                                      cast_character  \\\n",
       "0  [Woody (voice), Buzz Lightyear (voice), Mr. Po...   \n",
       "1  [Alan Parrish, Samuel Alan Parrish / Van Pelt,...   \n",
       "\n",
       "                                      cast_credit_id  \\\n",
       "0  [52fe4284c3a36847f8024f95, 52fe4284c3a36847f80...   \n",
       "1  [52fe44bfc3a36847f80a7c73, 52fe44bfc3a36847f80...   \n",
       "\n",
       "                                         cast_gender  \\\n",
       "0            [2, 2, 2, 2, 2, 2, 1, 0, 2, 1, 2, 1, 2]   \n",
       "1  [2, 2, 1, 0, 1, 1, 2, 1, 0, 1, 2, 1, 2, 0, 0, ...   \n",
       "\n",
       "                                           id_actors  \\\n",
       "0  [31, 12898, 7167, 12899, 12900, 7907, 8873, 11...   \n",
       "1  [2157, 8537, 205, 145151, 5149, 10739, 58563, ...   \n",
       "\n",
       "                                           cast_name  \\\n",
       "0  [Tom Hanks, Tim Allen, Don Rickles, Jim Varney...   \n",
       "1  [Robin Williams, Jonathan Hyde, Kirsten Dunst,...   \n",
       "\n",
       "                                          cast_order  \\\n",
       "0         [0, 1, 2, 3, 4, 5, 6, 7, 8, 9, 10, 11, 12]   \n",
       "1  [0, 1, 2, 3, 4, 5, 6, 7, 8, 9, 10, 11, 12, 13,...   \n",
       "\n",
       "                                   cast_profile_path  \\\n",
       "0  [/pQFoyx7rp09CJTAb932F2g8Nlho.jpg, /uX2xVf6pMm...   \n",
       "1  [/sojtJyIV3lkUeThD7A2oHNm8183.jpg, /7il5D76vx6...   \n",
       "\n",
       "                                         id_director  \\\n",
       "0  [7879, 12891, 7, 12892, 12893, 12894, 12895, 1...   \n",
       "1  [511, 876, 1729, 4945, 4951, 4952, 8023, 9967,...   \n",
       "\n",
       "                                          credit_job  \\\n",
       "0  [Director, Screenplay, Screenplay, Screenplay,...   \n",
       "1  [Executive Producer, Screenplay, Original Musi...   \n",
       "\n",
       "                                         credit_name  \n",
       "0  [John Lasseter, Joss Whedon, Andrew Stanton, J...  \n",
       "1  [Larry J. Franco, Jonathan Hensleigh, James Ho...  "
      ]
     },
     "execution_count": 415,
     "metadata": {},
     "output_type": "execute_result"
    }
   ],
   "source": [
    "# Creo listas vacías para almacenar los valore\n",
    "id_crew_list = []\n",
    "credit_job_list = []\n",
    "credit_name_list = []\n",
    "\n",
    "# Recorremos el DataFrame original\n",
    "for lista in creditos['crew']:\n",
    "    otherList = eval(lista)  # Convierto a lista\n",
    "    \n",
    "    # Verificar si la lista está vacía\n",
    "    if len(otherList) == 0:\n",
    "        # Si la lista está vacía, asignar valores nulos a las listas correspondientes\n",
    "      \n",
    "        id_crew_val= None\n",
    "        credit_job_val = None\n",
    "        credit_name_val = None\n",
    "    else:\n",
    "        # Obtener los valores de cada campo en la lista\n",
    "        id_crew_vals = [item.get('id') for item in otherList]\n",
    "        credit_job_vals= [item.get('job') for item in otherList]\n",
    "        credit_name_vals = [item.get('name') for item in otherList]\n",
    "        #credit_profile_path_vals = [item.get('profile_path') for item in otherList]\n",
    "\n",
    "       \n",
    "        id_crew_val =id_crew_vals\n",
    "        credit_job_val= credit_job_vals\n",
    "        credit_name_val= credit_name_vals\n",
    "        \n",
    "    # Agregamos los valores a las listas correspondientes\n",
    "\n",
    "   \n",
    "    id_crew_list.append( id_crew_val )\n",
    "    credit_job_list.append(credit_job_val)\n",
    "    credit_name_list.append(credit_name_val)\n",
    "   \n",
    "# Asignamos los valores al DataFrame original\n",
    "\n",
    "creditos['id_director'] = id_crew_list\n",
    "creditos['credit_job'] = credit_job_list\n",
    "creditos['credit_name'] = credit_name_list\n",
    "\n",
    "# Mostrar el DataFrame resultante\n",
    "creditos.head(2)"
   ]
  },
  {
   "attachments": {},
   "cell_type": "markdown",
   "metadata": {},
   "source": [
    "Creamos dataframe creditos.\n"
   ]
  },
  {
   "cell_type": "code",
   "execution_count": 416,
   "metadata": {},
   "outputs": [],
   "source": [
    "\n",
    "creditos.to_csv('creditos.csv', index=False) #Creamos el dataframe con la columna cast desanidada y crew teniendo en cuenta algunas consideraciones, columnas necesarias para crear la función."
   ]
  },
  {
   "cell_type": "code",
   "execution_count": 417,
   "metadata": {},
   "outputs": [],
   "source": [
    "creditos.drop('crew',axis=1, inplace=True)  #### elimino la columna crew"
   ]
  },
  {
   "cell_type": "code",
   "execution_count": 418,
   "metadata": {},
   "outputs": [
    {
     "data": {
      "text/html": [
       "<div>\n",
       "<style scoped>\n",
       "    .dataframe tbody tr th:only-of-type {\n",
       "        vertical-align: middle;\n",
       "    }\n",
       "\n",
       "    .dataframe tbody tr th {\n",
       "        vertical-align: top;\n",
       "    }\n",
       "\n",
       "    .dataframe thead th {\n",
       "        text-align: right;\n",
       "    }\n",
       "</style>\n",
       "<table border=\"1\" class=\"dataframe\">\n",
       "  <thead>\n",
       "    <tr style=\"text-align: right;\">\n",
       "      <th></th>\n",
       "      <th>id_belongs_to_collection</th>\n",
       "      <th>name_belongs_to_collection</th>\n",
       "      <th>id_genres</th>\n",
       "      <th>name_genres</th>\n",
       "      <th>id_companies</th>\n",
       "      <th>name_companies</th>\n",
       "      <th>iso_3166_1_countries</th>\n",
       "      <th>name_countries</th>\n",
       "      <th>iso_639_1_languages</th>\n",
       "      <th>name_languages</th>\n",
       "      <th>...</th>\n",
       "      <th>cast_character</th>\n",
       "      <th>cast_credit_id</th>\n",
       "      <th>cast_gender</th>\n",
       "      <th>id_actors</th>\n",
       "      <th>cast_name</th>\n",
       "      <th>cast_order</th>\n",
       "      <th>cast_profile_path</th>\n",
       "      <th>id_director</th>\n",
       "      <th>credit_job</th>\n",
       "      <th>credit_name</th>\n",
       "    </tr>\n",
       "  </thead>\n",
       "  <tbody>\n",
       "    <tr>\n",
       "      <th>0</th>\n",
       "      <td>10194.0</td>\n",
       "      <td>Toy Story Collection</td>\n",
       "      <td>[16, 35, 10751]</td>\n",
       "      <td>[Animation, Comedy, Family]</td>\n",
       "      <td>[3]</td>\n",
       "      <td>[Pixar Animation Studios]</td>\n",
       "      <td>[US]</td>\n",
       "      <td>[United States of America]</td>\n",
       "      <td>[en]</td>\n",
       "      <td>[English]</td>\n",
       "      <td>...</td>\n",
       "      <td>[Woody (voice), Buzz Lightyear (voice), Mr. Po...</td>\n",
       "      <td>[52fe4284c3a36847f8024f95, 52fe4284c3a36847f80...</td>\n",
       "      <td>[2, 2, 2, 2, 2, 2, 1, 0, 2, 1, 2, 1, 2]</td>\n",
       "      <td>[31, 12898, 7167, 12899, 12900, 7907, 8873, 11...</td>\n",
       "      <td>[Tom Hanks, Tim Allen, Don Rickles, Jim Varney...</td>\n",
       "      <td>[0, 1, 2, 3, 4, 5, 6, 7, 8, 9, 10, 11, 12]</td>\n",
       "      <td>[/pQFoyx7rp09CJTAb932F2g8Nlho.jpg, /uX2xVf6pMm...</td>\n",
       "      <td>[7879, 12891, 7, 12892, 12893, 12894, 12895, 1...</td>\n",
       "      <td>[Director, Screenplay, Screenplay, Screenplay,...</td>\n",
       "      <td>[John Lasseter, Joss Whedon, Andrew Stanton, J...</td>\n",
       "    </tr>\n",
       "    <tr>\n",
       "      <th>1</th>\n",
       "      <td>NaN</td>\n",
       "      <td>None</td>\n",
       "      <td>[12, 14, 10751]</td>\n",
       "      <td>[Adventure, Fantasy, Family]</td>\n",
       "      <td>[559, 2550, 10201]</td>\n",
       "      <td>[TriStar Pictures, Teitler Film, Interscope Co...</td>\n",
       "      <td>[US]</td>\n",
       "      <td>[United States of America]</td>\n",
       "      <td>[en, fr]</td>\n",
       "      <td>[English, Français]</td>\n",
       "      <td>...</td>\n",
       "      <td>[Alan Parrish, Samuel Alan Parrish / Van Pelt,...</td>\n",
       "      <td>[52fe44bfc3a36847f80a7c73, 52fe44bfc3a36847f80...</td>\n",
       "      <td>[2, 2, 1, 0, 1, 1, 2, 1, 0, 1, 2, 1, 2, 0, 0, ...</td>\n",
       "      <td>[2157, 8537, 205, 145151, 5149, 10739, 58563, ...</td>\n",
       "      <td>[Robin Williams, Jonathan Hyde, Kirsten Dunst,...</td>\n",
       "      <td>[0, 1, 2, 3, 4, 5, 6, 7, 8, 9, 10, 11, 12, 13,...</td>\n",
       "      <td>[/sojtJyIV3lkUeThD7A2oHNm8183.jpg, /7il5D76vx6...</td>\n",
       "      <td>[511, 876, 1729, 4945, 4951, 4952, 8023, 9967,...</td>\n",
       "      <td>[Executive Producer, Screenplay, Original Musi...</td>\n",
       "      <td>[Larry J. Franco, Jonathan Hensleigh, James Ho...</td>\n",
       "    </tr>\n",
       "  </tbody>\n",
       "</table>\n",
       "<p>2 rows × 36 columns</p>\n",
       "</div>"
      ],
      "text/plain": [
       "   id_belongs_to_collection name_belongs_to_collection        id_genres  \\\n",
       "0                   10194.0       Toy Story Collection  [16, 35, 10751]   \n",
       "1                       NaN                       None  [12, 14, 10751]   \n",
       "\n",
       "                    name_genres        id_companies  \\\n",
       "0   [Animation, Comedy, Family]                 [3]   \n",
       "1  [Adventure, Fantasy, Family]  [559, 2550, 10201]   \n",
       "\n",
       "                                      name_companies iso_3166_1_countries  \\\n",
       "0                          [Pixar Animation Studios]                 [US]   \n",
       "1  [TriStar Pictures, Teitler Film, Interscope Co...                 [US]   \n",
       "\n",
       "               name_countries iso_639_1_languages       name_languages  ...  \\\n",
       "0  [United States of America]                [en]            [English]  ...   \n",
       "1  [United States of America]            [en, fr]  [English, Français]  ...   \n",
       "\n",
       "                                      cast_character  \\\n",
       "0  [Woody (voice), Buzz Lightyear (voice), Mr. Po...   \n",
       "1  [Alan Parrish, Samuel Alan Parrish / Van Pelt,...   \n",
       "\n",
       "                                      cast_credit_id  \\\n",
       "0  [52fe4284c3a36847f8024f95, 52fe4284c3a36847f80...   \n",
       "1  [52fe44bfc3a36847f80a7c73, 52fe44bfc3a36847f80...   \n",
       "\n",
       "                                         cast_gender  \\\n",
       "0            [2, 2, 2, 2, 2, 2, 1, 0, 2, 1, 2, 1, 2]   \n",
       "1  [2, 2, 1, 0, 1, 1, 2, 1, 0, 1, 2, 1, 2, 0, 0, ...   \n",
       "\n",
       "                                           id_actors  \\\n",
       "0  [31, 12898, 7167, 12899, 12900, 7907, 8873, 11...   \n",
       "1  [2157, 8537, 205, 145151, 5149, 10739, 58563, ...   \n",
       "\n",
       "                                           cast_name  \\\n",
       "0  [Tom Hanks, Tim Allen, Don Rickles, Jim Varney...   \n",
       "1  [Robin Williams, Jonathan Hyde, Kirsten Dunst,...   \n",
       "\n",
       "                                          cast_order  \\\n",
       "0         [0, 1, 2, 3, 4, 5, 6, 7, 8, 9, 10, 11, 12]   \n",
       "1  [0, 1, 2, 3, 4, 5, 6, 7, 8, 9, 10, 11, 12, 13,...   \n",
       "\n",
       "                                   cast_profile_path  \\\n",
       "0  [/pQFoyx7rp09CJTAb932F2g8Nlho.jpg, /uX2xVf6pMm...   \n",
       "1  [/sojtJyIV3lkUeThD7A2oHNm8183.jpg, /7il5D76vx6...   \n",
       "\n",
       "                                         id_director  \\\n",
       "0  [7879, 12891, 7, 12892, 12893, 12894, 12895, 1...   \n",
       "1  [511, 876, 1729, 4945, 4951, 4952, 8023, 9967,...   \n",
       "\n",
       "                                          credit_job  \\\n",
       "0  [Director, Screenplay, Screenplay, Screenplay,...   \n",
       "1  [Executive Producer, Screenplay, Original Musi...   \n",
       "\n",
       "                                         credit_name  \n",
       "0  [John Lasseter, Joss Whedon, Andrew Stanton, J...  \n",
       "1  [Larry J. Franco, Jonathan Hensleigh, James Ho...  \n",
       "\n",
       "[2 rows x 36 columns]"
      ]
     },
     "execution_count": 418,
     "metadata": {},
     "output_type": "execute_result"
    }
   ],
   "source": [
    "# Realizamos una combinación basada en la columna 'id'\n",
    "data_combined = pd.merge(NewData, creditos, on='id', how='inner')\n",
    "\n",
    "data_combined.head(2)\n"
   ]
  },
  {
   "cell_type": "code",
   "execution_count": 419,
   "metadata": {},
   "outputs": [],
   "source": [
    "data_combined.to_csv('data_combined.csv', index=False)   #creamos el archivo CSV"
   ]
  }
 ],
 "metadata": {
  "kernelspec": {
   "display_name": "Python 3",
   "language": "python",
   "name": "python3"
  },
  "language_info": {
   "codemirror_mode": {
    "name": "ipython",
    "version": 3
   },
   "file_extension": ".py",
   "mimetype": "text/x-python",
   "name": "python",
   "nbconvert_exporter": "python",
   "pygments_lexer": "ipython3",
   "version": "3.10.11"
  },
  "orig_nbformat": 4
 },
 "nbformat": 4,
 "nbformat_minor": 2
}
